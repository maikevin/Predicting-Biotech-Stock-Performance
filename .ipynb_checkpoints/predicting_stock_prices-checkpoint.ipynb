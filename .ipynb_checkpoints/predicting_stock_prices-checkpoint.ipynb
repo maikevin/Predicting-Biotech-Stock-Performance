{
 "cells": [
  {
   "cell_type": "code",
   "execution_count": 1,
   "metadata": {},
   "outputs": [],
   "source": [
    "#Loading Data Tool Packages\n",
    "import pandas as pd\n",
    "import numpy as np\n",
    "import json\n",
    "\n",
    "#Packages for plotting\n",
    "import seaborn as sns\n",
    "import matplotlib.pyplot as plt\n",
    "\n",
    "#Packages for datetime conversions\n",
    "import time\n",
    "import datetime as dt\n",
    "from datetime import datetime\n",
    "\n",
    "#Packages for Web-scraping\n",
    "import urllib\n",
    "import re\n",
    "from bs4 import BeautifulSoup\n",
    "import csv\n",
    "import requests"
   ]
  },
  {
   "cell_type": "markdown",
   "metadata": {},
   "source": [
    "## Using Finviz (fz), web-scraping performed to grab majority of biotechnology and healthcare sector stocks tickers."
   ]
  },
  {
   "cell_type": "code",
   "execution_count": 3,
   "metadata": {},
   "outputs": [
    {
     "name": "stdout",
     "output_type": "stream",
     "text": [
      "Program Total RunTime:  86.16185808181763\n"
     ]
    }
   ],
   "source": [
    "start = time.time()\n",
    "\n",
    "fzBiotechURL = \"https://finviz.com/screener.ashx?v=111&f=ind_biotechnology\"\n",
    "fzConnection = urllib.request.urlopen(fzBiotechURL)\n",
    "fzOutput = fzConnection.read()\n",
    "fzParser = BeautifulSoup(fzOutput, 'html.parser')\n",
    "listOfTickers = []\n",
    "listOfPages = []\n",
    "\n",
    "#Grab all links to pages\n",
    "for page in fzParser.findAll('a', attrs={'class': 'screener-pages'}):\n",
    "    listOfPages.append(page.text)\n",
    "\n",
    "lastPage = listOfPages[-1:]\n",
    "linksOfPageNumbers = []\n",
    "linksOfPages = []\n",
    "\n",
    "for num in range(int(lastPage[0])):\n",
    "    num = (num * 20)+1 \n",
    "    linksOfPageNumbers.append(num)\n",
    "\n",
    "for num in linksOfPageNumbers:\n",
    "    newLinks = \"https://finviz.com/screener.ashx?v=111&f=ind_biotechnology&r=\"+str(num)\n",
    "    linksOfPages.append(newLinks)\n",
    "\n",
    "\n",
    "def grabAllBiotechURLs(array):\n",
    "    listOfTickers = []\n",
    "    listOfPages = []\n",
    "\n",
    "    for url in array:\n",
    "        fzConnection = urllib.request.urlopen(url)\n",
    "        fzOutput = fzConnection.read()\n",
    "        fzParser = BeautifulSoup(fzOutput, 'html.parser')\n",
    "        \n",
    "        #Grab all the Tickers\n",
    "        for tr in fzParser.findAll('td', attrs={'class': 'screener-body-table-nw'}):\n",
    "            for line in tr.findAll('a', attrs={'class': 'screener-link-primary'}):\n",
    "                listOfTickers.append(line.text)\n",
    "                break\n",
    "    return listOfTickers\n",
    "\n",
    "finalURL = grabAllBiotechURLs(linksOfPages[1:])\n",
    "#np.savetxt(\"foo.csv\", linksOfPages)\n",
    "\n",
    "#export_csv = df.to_csv (r'C:\\Users\\chappie\\Desktop\\export_dataframe.xlsx', index = None, header=True) \n",
    "fzConnection.close()\n",
    "\n",
    "end = time.time()\n",
    "print(\"Program Total RunTime: \", end - start)"
   ]
  },
  {
   "cell_type": "markdown",
   "metadata": {},
   "source": [
    "## Using Alpha Vantage, dataframe will be created to look at historical data from 2000 - 2020.\n",
    "Reference documentation: https://www.alphavantage.co/documentation/\n",
    "\n",
    "Possible Use with these built-in functions: VWAP, EMA, RSI, ADX, MACD"
   ]
  },
  {
   "cell_type": "code",
   "execution_count": 4,
   "metadata": {},
   "outputs": [
    {
     "name": "stdout",
     "output_type": "stream",
     "text": [
      "['AGEN', 'AGIO', 'AGLE', 'AGTC', 'AIKI', 'AIM', 'AIMT', 'AKBA', 'AKCA', 'AKRO', 'AKTX', 'ALBO', 'ALDX', 'ALEC', 'ALKS', 'ALLK', 'ALLO', 'ALNA', 'ALNY', 'ALPN', 'ALRN', 'ALT', 'ALXN', 'AMAG', 'AMGN', 'AMPE', 'AMRN', 'ANAB', 'ANCN', 'ANIK', 'ANIP', 'ANPC', 'ANVS', 'APLS', 'APLT', 'APM', 'APOP', 'APRE', 'APTO', 'APTX', 'APVO', 'AQB', 'AQST', 'ARAV', 'ARCT', 'ARDS', 'ARDX', 'ARGX', 'ARMP', 'ARNA', 'ARPO', 'ARQT', 'ARTL', 'ARVN', 'ARWR', 'ASLN', 'ASMB', 'ASND', 'ATHE', 'ATHX', 'ATNM', 'ATNX', 'ATOS', 'ATRA', 'ATXI', 'AUPH', 'AUTL', 'AVDL', 'AVEO', 'AVRO', 'AVXL', 'AXGT', 'AXLA', 'AXSM', 'AYTU', 'AZRX', 'BBI', 'BBIO', 'BCDA', 'BCEL', 'BCLI', 'BCRX', 'BCYC', 'BDSI', 'BDTX', 'BEAM', 'BFRA', 'BGNE', 'BHVN', 'BIIB', 'BLCM', 'BLPH', 'BLRX', 'BLU', 'BLUE', 'BMRN', 'BNTC', 'BNTX', 'BPMC', 'BPMX', 'BPTH', 'BSTC', 'BTAI', 'BVXV', 'BXRX', 'BYSI', 'CABA', 'CALA', 'CANF', 'CAPR', 'CARA', 'CASI', 'CATB', 'CBAY', 'CBIO', 'CBLI', 'CBMG', 'CBPO', 'CCXI', 'CDMO', 'CDMOP', 'CDTX', 'CDXC', 'CDXS', 'CERC', 'CERS', 'CFRX', 'CGEN', 'CGIX', 'CHMA', 'CHRS', 'CKPT', 'CLBS', 'CLDX', 'CLGN', 'CLLS', 'CLRB', 'CLSD', 'CLSN', 'CLVS', 'CMRX', 'CNAT', 'CNCE', 'CNSP', 'CNST', 'COCP', 'CORT', 'CPRX', 'CRBP', 'CRIS', 'CRMD', 'CRNX', 'CRON', 'CRSP', 'CRTX', 'CRVS', 'CSBR', 'CTIC', 'CTMX', 'CTXR', 'CUE', 'CVM', 'CWBR', 'CYAD', 'CYAN', 'CYCC', 'CYCCP', 'CYCN', 'CYTK', 'DARE', 'DBVT', 'DCPH', 'DFFN', 'DMAC', 'DMPI', 'DNLI', 'DRNA', 'DTIL', 'DVAX', 'EARS', 'EBS', 'EDIT', 'EDSA', 'EIDX', 'EIGR', 'ELOX', 'ENLV', 'ENOB', 'ENTA', 'ENTX', 'EPIX', 'EPZM', 'EQ', 'ERYP', 'ESPR', 'ETNB', 'ETON', 'ETTX', 'EVFM', 'EVGN', 'EVLO', 'EXEL', 'EYEG', 'EYEN', 'EYPT', 'FATE', 'FBIO', 'FBIOP', 'FENC', 'FGEN', 'FIXX', 'FOLD', 'FPRX', 'FREQ', 'FULC', 'FWP', 'GALT', 'GBT', 'GERN', 'GILD', 'GLMD', 'GLPG', 'GLYC', 'GMAB', 'GMDA', 'GNCA', 'GNFT', 'GNPX', 'GOSS', 'GRTS', 'GRTX', 'GTHX', 'HALO', 'HARP', 'HEPA', 'HOOK', 'HOTH', 'HRTX', 'HTBX', 'IBIO', 'ICCC', 'ICPT', 'IDRA', 'IDYA', 'IFRX', 'IGMS', 'ILMN', 'IMAB', 'IMGN', 'IMMP', 'IMMU', 'IMRA', 'IMRN', 'IMUX', 'IMV', 'IMVT', 'IMVTU', 'INCY', 'INFI', 'INMB', 'INNT', 'INO', 'INSM', 'INVA', 'IONS', 'IOVA', 'IPHA', 'ISEE', 'ITCI', 'ITRM', 'JAGX', 'JAZZ', 'JNCE', 'KALA', 'KALV', 'KDMN', 'KIN', 'KLDO', 'KMDA', 'KMPH', 'KNSA', 'KOD', 'KPTI', 'KROS', 'KRTX', 'KRYS', 'KTOV', 'KURA', 'KZIA', 'KZR', 'LCTX', 'LGND', 'LIFE', 'LJPC', 'LMNL', 'LOGC', 'LPCN', 'LPTX', 'LQDA', 'LUMO', 'LXRX', 'MACK', 'MBIO', 'MBRX', 'MCRB', 'MDGL', 'MDWD', 'MEIP', 'MESO', 'MGEN', 'MGNX', 'MGTA', 'MGTX', 'MIRM', 'MIST', 'MITO', 'MLND', 'MNKD', 'MNLO', 'MNOV', 'MNPR', 'MOR', 'MORF', 'MREO', 'MRKR', 'MRNA', 'MRNS', 'MRSN', 'MRTX', 'MRUS', 'MTEM', 'MTNB', 'MTP', 'MYOK', 'MYOV', 'NAVB', 'NBIX', 'NBRV', 'NBSE', 'NBY', 'NCNA', 'NEPT', 'NERV', 'NGM', 'NK', 'NKTR', 'NLTX', 'NNVC', 'NOVN', 'NRBO', 'NSTG', 'NTEC', 'NTGN', 'NTLA', 'NTRP', 'NVAX', 'NVIV', 'NVO', 'NVUS', 'NXTC', 'NYMX', 'OBSV', 'OCGN', 'OCUL', 'OCX', 'ODT', 'OGEN', 'OMER', 'ONCS', 'ONCT', 'ONCY', 'ONTX', 'OPK', 'OPNT', 'ORGS', 'ORMP', 'ORTX', 'OSMT', 'OTIC', 'OTLK', 'OVID', 'OYST', 'PACB', 'PASG', 'PBYI', 'PDLI', 'PDSB', 'PFNX', 'PGEN', 'PGNX', 'PHAS', 'PHAT', 'PHIO', 'PIRS', 'PLX', 'PLXP', 'PRNB', 'PRQR', 'PRTA', 'PRTK', 'PRVB', 'PRVL', 'PSNL', 'PSTI', 'PSTV', 'PTCT', 'PTE', 'PTGX', 'PTI', 'PTLA', 'PTN', 'PULM', 'QTRX', 'QURE', 'RAPT', 'RARE', 'RCKT', 'RCUS', 'RDHL', 'RDUS', 'REGN', 'REPH', 'REPL', 'RETA', 'REXN', 'RFL', 'RGLS', 'RGNX', 'RIGL', 'RLMD', 'RTRX', 'RTTR', 'RUBY', 'RVMD', 'RVNC', 'RYTM', 'SAGE', 'SAVA', 'SBBP', 'SBPH', 'SCPH', 'SEEL', 'SELB', 'SESN', 'SGEN', 'SGMO', 'SIGA', 'SLGL', 'SLRX', 'SLS', 'SMMT', 'SNCA', 'SNDX', 'SNGX', 'SNSS', 'SONN', 'SPHS', 'SPPI', 'SPRO', 'SRNE', 'SRPT', 'SRRA', 'SRRK', 'STML', 'STOK', 'STRO', 'STSA', 'SURF', 'SVRA', 'SWTX', 'SYBX', 'SYN', 'SYRS', 'TARA', 'TBIO', 'TBPH', 'TCON', 'TCRR', 'TECH', 'TENX', 'TFFP', 'TGTX', 'TLC', 'TLGT', 'TLSA', 'TNXP', 'TOCA', 'TORC', 'TPTX', 'TRIL', 'TROV', 'TRPX', 'TRVI', 'TRVN', 'TTNP', 'TTPH', 'TYME', 'UBX', 'UMRX', 'URGN', 'UROV', 'UTHR', 'VBIV', 'VBLT', 'VCEL', 'VCNX', 'VCYT', 'VIE', 'VIR', 'VKTX', 'VNDA', 'VRCA', 'VRNA', 'VRTX', 'VSTM', 'VTGN', 'VTVT', 'VVUS', 'VXRT', 'VYGR', 'WVE', 'XBIO', 'XBIT', 'XCUR', 'XENE', 'XERS', 'XFOR', 'XLRN', 'XNCR', 'XOMA', 'XTLB', 'XXII', 'YMAB', 'ZEAL', 'ZFGN', 'ZGNX', 'ZIOP', 'ZLAB', 'ZNTL', 'ZSAN', 'ZYME', 'ZYNE']\n"
     ]
    }
   ],
   "source": [
    "api_dir = r\"C:\\Users\\chappie\\Documents\\GitHub\\Predicting_Biotech_Stock_Performance\\API_KEY.txt\"\n",
    "api_key = open(api_dir,\"r\").read()\n",
    "\n",
    "#Writing function queries into array from documentation\n",
    "alphaVFunctions = ['TIME_SERIES_INTRADAY','TIME_SERIES_DAILY','TIME_SERIES_DAILY_ADJUSTED','TIME_SERIES_WEEKLY','TIME_SERIES_MONTHLY', 'TIME_SERIES_WEEKLY_ADJUSTED','TIME_SERIES_MONTHLY_ADJUSTED']\n",
    "\n",
    "#Writing Interval queries into array from documentation\n",
    "alphaVIntervals = ['1min', '5min', '15min', '30min', '60min']\n",
    "\n",
    "#Using List from Finviz\n",
    "print(finalURL)\n",
    "\n",
    "#Using Temporary Placeholder Ticker\n",
    "ticker = 'MSFT'\n",
    "\n",
    "#Using outputsize parameters: full (full-length) rather than compact (>=100 data pts)\n",
    "def useAPI(function, ticker, interval, output):\n",
    "    AV_URL = 'https://www.alphavantage.co/query?function='+ alphaVFunctions[1] +'&symbol='+ ticker + '&interval='+ alphaVIntervals[1] + '&outputsize=full' + '&apikey=' + api_key\n",
    "    return AV_URL"
   ]
  },
  {
   "cell_type": "code",
   "execution_count": 11,
   "metadata": {},
   "outputs": [
    {
     "name": "stdout",
     "output_type": "stream",
     "text": [
      "Request is successful.\n",
      "{'1. Information': 'Daily Prices (open, high, low, close) and Volumes', '2. Symbol': 'MSFT', '3. Last Refreshed': '2020-04-21', '4. Output Size': 'Full size', '5. Time Zone': 'US/Eastern'}\n"
     ]
    }
   ],
   "source": [
    "data = requests.get(useAPI(alphaVFunctions[1],ticker,alphaVIntervals[2], ''))\n",
    "data = data.json()\n",
    "\n",
    "if data:\n",
    "    print('Request is successful.')\n",
    "else:\n",
    "    print('Request returned an error.')\n",
    "    \n",
    "#Printing the Parameters to make proper request.\n",
    "header = data['Meta Data']\n",
    "print(header)"
   ]
  },
  {
   "cell_type": "code",
   "execution_count": 97,
   "metadata": {},
   "outputs": [
    {
     "data": {
      "text/plain": [
       "'\"start = dt.datetime(2000,1,1)\\nrefreshed = \\'3. Last Refreshed\\'\\n#params = dict(refreshed = start)\\ntestResponse = requests.get(useAPI(alphaVFunctions[4],ticker,alphaVIntervals[1],\\'\\')).json()\\n#print(testResponse)\\n#Printing the Parameters to make proper request.\\nmetadata = data[\\'Meta Data\\']\\ntimeseries = data[\\'Time Series (5min)\\']\\nfor i in timeseries.items():\\n    print(i)'"
      ]
     },
     "execution_count": 97,
     "metadata": {},
     "output_type": "execute_result"
    }
   ],
   "source": [
    "#Testing Parameters\n",
    "\"\"\"\"start = dt.datetime(2000,1,1)\n",
    "refreshed = '3. Last Refreshed'\n",
    "#params = dict(refreshed = start)\n",
    "testResponse = requests.get(useAPI(alphaVFunctions[4],ticker,alphaVIntervals[1],'')).json()\n",
    "#print(testResponse)\n",
    "#Printing the Parameters to make proper request.\n",
    "metadata = data['Meta Data']\n",
    "timeseries = data['Time Series (5min)']\n",
    "for i in timeseries.items():\n",
    "    print(i)\"\"\""
   ]
  },
  {
   "cell_type": "code",
   "execution_count": 7,
   "metadata": {},
   "outputs": [],
   "source": [
    "#Exploring API\n",
    "start = dt.datetime(2000,1,1)\n",
    "end = dt.datetime(2020,4,1)\n",
    "params = dict(\n",
    "    start_date = start,\n",
    "    end_date = end\n",
    ")"
   ]
  },
  {
   "cell_type": "code",
   "execution_count": 6,
   "metadata": {},
   "outputs": [],
   "source": [
    "#Define Arrays\n",
    "timeIntervals = []\n",
    "dfValues = []\n",
    "\n",
    "#Define Columns in list form.\n",
    "openingValue = []\n",
    "highValue = []\n",
    "lowValue = []\n",
    "closeValue = []\n",
    "volumeValue = []"
   ]
  },
  {
   "cell_type": "code",
   "execution_count": 15,
   "metadata": {},
   "outputs": [
    {
     "ename": "KeyboardInterrupt",
     "evalue": "",
     "output_type": "error",
     "traceback": [
      "\u001b[1;31m---------------------------------------------------------------------------\u001b[0m",
      "\u001b[1;31mKeyboardInterrupt\u001b[0m                         Traceback (most recent call last)",
      "\u001b[1;32m<ipython-input-15-acfe09f4258b>\u001b[0m in \u001b[0;36m<module>\u001b[1;34m\u001b[0m\n\u001b[0;32m     60\u001b[0m     \u001b[0mallData\u001b[0m\u001b[1;33m[\u001b[0m\u001b[1;34m'Volume'\u001b[0m\u001b[1;33m]\u001b[0m \u001b[1;33m=\u001b[0m \u001b[0mallData\u001b[0m\u001b[1;33m[\u001b[0m\u001b[1;34m'Volume'\u001b[0m\u001b[1;33m]\u001b[0m\u001b[1;33m.\u001b[0m\u001b[0mastype\u001b[0m\u001b[1;33m(\u001b[0m\u001b[0mfloat\u001b[0m\u001b[1;33m)\u001b[0m\u001b[1;33m\u001b[0m\u001b[1;33m\u001b[0m\u001b[0m\n\u001b[0;32m     61\u001b[0m     \u001b[1;31m#print(allData.dtypes)\u001b[0m\u001b[1;33m\u001b[0m\u001b[1;33m\u001b[0m\u001b[1;33m\u001b[0m\u001b[0m\n\u001b[1;32m---> 62\u001b[1;33m     \u001b[0mallData\u001b[0m\u001b[1;33m.\u001b[0m\u001b[0mto_csv\u001b[0m\u001b[1;33m(\u001b[0m\u001b[0murl\u001b[0m \u001b[1;33m+\u001b[0m \u001b[1;34m\".csv\"\u001b[0m\u001b[1;33m,\u001b[0m \u001b[0mencoding\u001b[0m\u001b[1;33m=\u001b[0m\u001b[1;34m'utf-8'\u001b[0m\u001b[1;33m,\u001b[0m \u001b[0mindex\u001b[0m\u001b[1;33m=\u001b[0m\u001b[1;32mFalse\u001b[0m\u001b[1;33m)\u001b[0m\u001b[1;33m\u001b[0m\u001b[1;33m\u001b[0m\u001b[0m\n\u001b[0m\u001b[0;32m     63\u001b[0m \u001b[1;33m\u001b[0m\u001b[0m\n\u001b[0;32m     64\u001b[0m \u001b[1;33m\u001b[0m\u001b[0m\n",
      "\u001b[1;32m~\\Anaconda3\\lib\\site-packages\\pandas\\core\\generic.py\u001b[0m in \u001b[0;36mto_csv\u001b[1;34m(self, path_or_buf, sep, na_rep, float_format, columns, header, index, index_label, mode, encoding, compression, quoting, quotechar, line_terminator, chunksize, date_format, doublequote, escapechar, decimal)\u001b[0m\n\u001b[0;32m   3226\u001b[0m             \u001b[0mdecimal\u001b[0m\u001b[1;33m=\u001b[0m\u001b[0mdecimal\u001b[0m\u001b[1;33m,\u001b[0m\u001b[1;33m\u001b[0m\u001b[1;33m\u001b[0m\u001b[0m\n\u001b[0;32m   3227\u001b[0m         )\n\u001b[1;32m-> 3228\u001b[1;33m         \u001b[0mformatter\u001b[0m\u001b[1;33m.\u001b[0m\u001b[0msave\u001b[0m\u001b[1;33m(\u001b[0m\u001b[1;33m)\u001b[0m\u001b[1;33m\u001b[0m\u001b[1;33m\u001b[0m\u001b[0m\n\u001b[0m\u001b[0;32m   3229\u001b[0m \u001b[1;33m\u001b[0m\u001b[0m\n\u001b[0;32m   3230\u001b[0m         \u001b[1;32mif\u001b[0m \u001b[0mpath_or_buf\u001b[0m \u001b[1;32mis\u001b[0m \u001b[1;32mNone\u001b[0m\u001b[1;33m:\u001b[0m\u001b[1;33m\u001b[0m\u001b[1;33m\u001b[0m\u001b[0m\n",
      "\u001b[1;32m~\\Anaconda3\\lib\\site-packages\\pandas\\io\\formats\\csvs.py\u001b[0m in \u001b[0;36msave\u001b[1;34m(self)\u001b[0m\n\u001b[0;32m    200\u001b[0m                 \u001b[0mself\u001b[0m\u001b[1;33m.\u001b[0m\u001b[0mwriter\u001b[0m \u001b[1;33m=\u001b[0m \u001b[0mUnicodeWriter\u001b[0m\u001b[1;33m(\u001b[0m\u001b[0mf\u001b[0m\u001b[1;33m,\u001b[0m \u001b[1;33m**\u001b[0m\u001b[0mwriter_kwargs\u001b[0m\u001b[1;33m)\u001b[0m\u001b[1;33m\u001b[0m\u001b[1;33m\u001b[0m\u001b[0m\n\u001b[0;32m    201\u001b[0m \u001b[1;33m\u001b[0m\u001b[0m\n\u001b[1;32m--> 202\u001b[1;33m             \u001b[0mself\u001b[0m\u001b[1;33m.\u001b[0m\u001b[0m_save\u001b[0m\u001b[1;33m(\u001b[0m\u001b[1;33m)\u001b[0m\u001b[1;33m\u001b[0m\u001b[1;33m\u001b[0m\u001b[0m\n\u001b[0m\u001b[0;32m    203\u001b[0m \u001b[1;33m\u001b[0m\u001b[0m\n\u001b[0;32m    204\u001b[0m         \u001b[1;32mfinally\u001b[0m\u001b[1;33m:\u001b[0m\u001b[1;33m\u001b[0m\u001b[1;33m\u001b[0m\u001b[0m\n",
      "\u001b[1;32m~\\Anaconda3\\lib\\site-packages\\pandas\\io\\formats\\csvs.py\u001b[0m in \u001b[0;36m_save\u001b[1;34m(self)\u001b[0m\n\u001b[0;32m    322\u001b[0m                 \u001b[1;32mbreak\u001b[0m\u001b[1;33m\u001b[0m\u001b[1;33m\u001b[0m\u001b[0m\n\u001b[0;32m    323\u001b[0m \u001b[1;33m\u001b[0m\u001b[0m\n\u001b[1;32m--> 324\u001b[1;33m             \u001b[0mself\u001b[0m\u001b[1;33m.\u001b[0m\u001b[0m_save_chunk\u001b[0m\u001b[1;33m(\u001b[0m\u001b[0mstart_i\u001b[0m\u001b[1;33m,\u001b[0m \u001b[0mend_i\u001b[0m\u001b[1;33m)\u001b[0m\u001b[1;33m\u001b[0m\u001b[1;33m\u001b[0m\u001b[0m\n\u001b[0m\u001b[0;32m    325\u001b[0m \u001b[1;33m\u001b[0m\u001b[0m\n\u001b[0;32m    326\u001b[0m     \u001b[1;32mdef\u001b[0m \u001b[0m_save_chunk\u001b[0m\u001b[1;33m(\u001b[0m\u001b[0mself\u001b[0m\u001b[1;33m,\u001b[0m \u001b[0mstart_i\u001b[0m\u001b[1;33m,\u001b[0m \u001b[0mend_i\u001b[0m\u001b[1;33m)\u001b[0m\u001b[1;33m:\u001b[0m\u001b[1;33m\u001b[0m\u001b[1;33m\u001b[0m\u001b[0m\n",
      "\u001b[1;32m~\\Anaconda3\\lib\\site-packages\\pandas\\io\\formats\\csvs.py\u001b[0m in \u001b[0;36m_save_chunk\u001b[1;34m(self, start_i, end_i)\u001b[0m\n\u001b[0;32m    338\u001b[0m                 \u001b[0mdecimal\u001b[0m\u001b[1;33m=\u001b[0m\u001b[0mself\u001b[0m\u001b[1;33m.\u001b[0m\u001b[0mdecimal\u001b[0m\u001b[1;33m,\u001b[0m\u001b[1;33m\u001b[0m\u001b[1;33m\u001b[0m\u001b[0m\n\u001b[0;32m    339\u001b[0m                 \u001b[0mdate_format\u001b[0m\u001b[1;33m=\u001b[0m\u001b[0mself\u001b[0m\u001b[1;33m.\u001b[0m\u001b[0mdate_format\u001b[0m\u001b[1;33m,\u001b[0m\u001b[1;33m\u001b[0m\u001b[1;33m\u001b[0m\u001b[0m\n\u001b[1;32m--> 340\u001b[1;33m                 \u001b[0mquoting\u001b[0m\u001b[1;33m=\u001b[0m\u001b[0mself\u001b[0m\u001b[1;33m.\u001b[0m\u001b[0mquoting\u001b[0m\u001b[1;33m,\u001b[0m\u001b[1;33m\u001b[0m\u001b[1;33m\u001b[0m\u001b[0m\n\u001b[0m\u001b[0;32m    341\u001b[0m             )\n\u001b[0;32m    342\u001b[0m \u001b[1;33m\u001b[0m\u001b[0m\n",
      "\u001b[1;32m~\\Anaconda3\\lib\\site-packages\\pandas\\core\\internals\\blocks.py\u001b[0m in \u001b[0;36mto_native_types\u001b[1;34m(self, slicer, na_rep, date_format, quoting, **kwargs)\u001b[0m\n\u001b[0;32m   2340\u001b[0m             \u001b[0mtz\u001b[0m\u001b[1;33m=\u001b[0m\u001b[0mgetattr\u001b[0m\u001b[1;33m(\u001b[0m\u001b[0mself\u001b[0m\u001b[1;33m.\u001b[0m\u001b[0mvalues\u001b[0m\u001b[1;33m,\u001b[0m \u001b[1;34m\"tz\"\u001b[0m\u001b[1;33m,\u001b[0m \u001b[1;32mNone\u001b[0m\u001b[1;33m)\u001b[0m\u001b[1;33m,\u001b[0m\u001b[1;33m\u001b[0m\u001b[1;33m\u001b[0m\u001b[0m\n\u001b[0;32m   2341\u001b[0m             \u001b[0mformat\u001b[0m\u001b[1;33m=\u001b[0m\u001b[0mfmt\u001b[0m\u001b[1;33m,\u001b[0m\u001b[1;33m\u001b[0m\u001b[1;33m\u001b[0m\u001b[0m\n\u001b[1;32m-> 2342\u001b[1;33m             \u001b[0mna_rep\u001b[0m\u001b[1;33m=\u001b[0m\u001b[0mna_rep\u001b[0m\u001b[1;33m,\u001b[0m\u001b[1;33m\u001b[0m\u001b[1;33m\u001b[0m\u001b[0m\n\u001b[0m\u001b[0;32m   2343\u001b[0m         ).reshape(i8values.shape)\n\u001b[0;32m   2344\u001b[0m         \u001b[1;32mreturn\u001b[0m \u001b[0mnp\u001b[0m\u001b[1;33m.\u001b[0m\u001b[0matleast_2d\u001b[0m\u001b[1;33m(\u001b[0m\u001b[0mresult\u001b[0m\u001b[1;33m)\u001b[0m\u001b[1;33m\u001b[0m\u001b[1;33m\u001b[0m\u001b[0m\n",
      "\u001b[1;31mKeyboardInterrupt\u001b[0m: "
     ]
    }
   ],
   "source": [
    "start = time.time()\n",
    "\n",
    "for url in finalURL:\n",
    "    response = requests.get(useAPI(alphaVFunctions[2],url,alphaVIntervals[1], ''), params).json()\n",
    "    #print(response)\n",
    "    datadump = json.dumps(response, indent=2, sort_keys=True)\n",
    "    #print(datadump)\n",
    "    \n",
    "    #if response:\n",
    "    #    print('Response was grabbed for ' + url + '!')\n",
    "\n",
    "    #timeSeries = 'Time Series (5min)'\n",
    "    timeSeries = 'Time Series (Daily)'\n",
    "    #metaStr = 'Meta Data'\n",
    "    #metaData = data[metaStr]\n",
    "    \n",
    "    #Create DataFrame to grab.\n",
    "    df = pd.DataFrame([data])\n",
    "    dataTimeSeries = df[timeSeries]\n",
    "    #Grab Values from Time Series.\n",
    "    for j, k in dataTimeSeries.items():\n",
    "        #Separate Time interval (l) into one list, and values (m) into dfValues.\n",
    "        for l, m in k.items():\n",
    "            timeIntervals.append(l)\n",
    "            dfValues.append(m)\n",
    "            #Loop through dfValues to turn extra values from dictionary.\n",
    "            #n value example: 1. open, 2. high...\n",
    "            #o value for n: 140.2300, 143.8400...\n",
    "            loopCount = 0\n",
    "            for n, o in m.items():\n",
    "                if (n == '1. open'):\n",
    "                    openingValue.append(o)\n",
    "                if (n == '2. high'):\n",
    "                    highValue.append(o)\n",
    "                if (n == '3. low'):\n",
    "                    lowValue.append(o)\n",
    "                if (n == '4. close'):\n",
    "                    closeValue.append(o)\n",
    "                if (n == '5. volume'):\n",
    "                    volumeValue.append(o)\n",
    "    \"\"\"\n",
    "    #Checking the lengths if it is equal.\n",
    "    if len(timeIntervals) == len(dfValues):\n",
    "        print(\"Time Interval and Values are the Same Length. Ok to continue program!\")\n",
    "    \"\"\"\n",
    "    #Create our data set\n",
    "    allData = pd.DataFrame()\n",
    "    allData['DateTime'] = timeIntervals\n",
    "    allData['DateTime'] = pd.to_datetime(allData['DateTime'], errors='coerce')\n",
    "    allData['Time'] = allData['DateTime'].dt.time\n",
    "    #allData['Time'] = pd.to_timedelta(allData['Time'], errors='coerce')\n",
    "    #print(allData['Time'])\n",
    "    allData['Open'] = openingValue\n",
    "    allData['Open'] = allData['Open'].astype(float)\n",
    "    allData['Low'] = lowValue\n",
    "    allData['Low'] = allData['Low'].astype(float)\n",
    "    allData['Close'] = closeValue\n",
    "    allData['Close'] = allData['Close'].astype(float)\n",
    "    allData['Volume'] = volumeValue\n",
    "    allData['Volume'] = allData['Volume'].astype(float)\n",
    "    #print(allData.dtypes)\n",
    "    allData.to_csv(url + \".csv\", encoding='utf-8', index=False)\n",
    "\n",
    "    \n",
    "end = time.time()\n",
    "print(\"Program Total RunTime: \", end - start)"
   ]
  },
  {
   "cell_type": "code",
   "execution_count": 2,
   "metadata": {},
   "outputs": [
    {
     "data": {
      "text/html": [
       "<div>\n",
       "<style scoped>\n",
       "    .dataframe tbody tr th:only-of-type {\n",
       "        vertical-align: middle;\n",
       "    }\n",
       "\n",
       "    .dataframe tbody tr th {\n",
       "        vertical-align: top;\n",
       "    }\n",
       "\n",
       "    .dataframe thead th {\n",
       "        text-align: right;\n",
       "    }\n",
       "</style>\n",
       "<table border=\"1\" class=\"dataframe\">\n",
       "  <thead>\n",
       "    <tr style=\"text-align: right;\">\n",
       "      <th></th>\n",
       "      <th>DateTime</th>\n",
       "      <th>Time</th>\n",
       "      <th>Open</th>\n",
       "      <th>Low</th>\n",
       "      <th>Close</th>\n",
       "      <th>Volume</th>\n",
       "    </tr>\n",
       "  </thead>\n",
       "  <tbody>\n",
       "    <tr>\n",
       "      <td>0</td>\n",
       "      <td>2020-04-21</td>\n",
       "      <td>00:00:00</td>\n",
       "      <td>173.50</td>\n",
       "      <td>166.1102</td>\n",
       "      <td>167.82</td>\n",
       "      <td>55826672.0</td>\n",
       "    </tr>\n",
       "    <tr>\n",
       "      <td>1</td>\n",
       "      <td>2020-04-20</td>\n",
       "      <td>00:00:00</td>\n",
       "      <td>176.63</td>\n",
       "      <td>174.9900</td>\n",
       "      <td>175.06</td>\n",
       "      <td>36669595.0</td>\n",
       "    </tr>\n",
       "    <tr>\n",
       "      <td>2</td>\n",
       "      <td>2020-04-17</td>\n",
       "      <td>00:00:00</td>\n",
       "      <td>179.50</td>\n",
       "      <td>175.8700</td>\n",
       "      <td>178.60</td>\n",
       "      <td>52765625.0</td>\n",
       "    </tr>\n",
       "    <tr>\n",
       "      <td>3</td>\n",
       "      <td>2020-04-16</td>\n",
       "      <td>00:00:00</td>\n",
       "      <td>174.30</td>\n",
       "      <td>172.9000</td>\n",
       "      <td>177.04</td>\n",
       "      <td>50479610.0</td>\n",
       "    </tr>\n",
       "    <tr>\n",
       "      <td>4</td>\n",
       "      <td>2020-04-15</td>\n",
       "      <td>00:00:00</td>\n",
       "      <td>171.20</td>\n",
       "      <td>169.2400</td>\n",
       "      <td>171.88</td>\n",
       "      <td>40940833.0</td>\n",
       "    </tr>\n",
       "  </tbody>\n",
       "</table>\n",
       "</div>"
      ],
      "text/plain": [
       "     DateTime      Time    Open       Low   Close      Volume\n",
       "0  2020-04-21  00:00:00  173.50  166.1102  167.82  55826672.0\n",
       "1  2020-04-20  00:00:00  176.63  174.9900  175.06  36669595.0\n",
       "2  2020-04-17  00:00:00  179.50  175.8700  178.60  52765625.0\n",
       "3  2020-04-16  00:00:00  174.30  172.9000  177.04  50479610.0\n",
       "4  2020-04-15  00:00:00  171.20  169.2400  171.88  40940833.0"
      ]
     },
     "execution_count": 2,
     "metadata": {},
     "output_type": "execute_result"
    }
   ],
   "source": [
    "AMGEN = r'C:\\Users\\chappie\\Documents\\GitHub\\Predicting_Biotech_Stock_Performance\\Predicting-Biotech-Stock-Performance\\AMGN.csv'\n",
    "pdAMGEN = pd.read_csv(AMGEN)\n",
    "pdAMGEN.head()"
   ]
  },
  {
   "cell_type": "code",
   "execution_count": 3,
   "metadata": {},
   "outputs": [
    {
     "name": "stdout",
     "output_type": "stream",
     "text": [
      "          DateTime      Time    Open       Low   Close       Volume  Month  \\\n",
      "0       2020-04-21  00:00:00  173.50  166.1102  167.82   55826672.0      4   \n",
      "1       2020-04-20  00:00:00  176.63  174.9900  175.06   36669595.0      4   \n",
      "2       2020-04-17  00:00:00  179.50  175.8700  178.60   52765625.0      4   \n",
      "3       2020-04-16  00:00:00  174.30  172.9000  177.04   50479610.0      4   \n",
      "4       2020-04-15  00:00:00  171.20  169.2400  171.88   40940833.0      4   \n",
      "...            ...       ...     ...       ...     ...          ...    ...   \n",
      "125770  2000-04-27  00:00:00   67.44   67.3700   69.81   38834900.0      4   \n",
      "125771  2000-04-26  00:00:00   70.00   67.3700   68.00   53545600.0      4   \n",
      "125772  2000-04-25  00:00:00   68.75   67.6200   69.37   79758700.0      4   \n",
      "125773  2000-04-24  00:00:00   67.25   65.0000   66.62  156822900.0      4   \n",
      "125774  2000-04-20  00:00:00   78.62   77.5000   78.94   26193700.0      4   \n",
      "\n",
      "        Day  Year MonthName  Season  \n",
      "0        21  2020     April  Spring  \n",
      "1        20  2020     April  Spring  \n",
      "2        17  2020     April  Spring  \n",
      "3        16  2020     April  Spring  \n",
      "4        15  2020     April  Spring  \n",
      "...     ...   ...       ...     ...  \n",
      "125770   27  2000     April  Spring  \n",
      "125771   26  2000     April  Spring  \n",
      "125772   25  2000     April  Spring  \n",
      "125773   24  2000     April  Spring  \n",
      "125774   20  2000     April  Spring  \n",
      "\n",
      "[125775 rows x 11 columns]\n"
     ]
    }
   ],
   "source": [
    "#Add Separate Columns for Day, Month, Year, Month Names, and Season to dataframe\n",
    "def dateTimeConversion(df):\n",
    "    #Arrays for Appending\n",
    "    yearArr = []\n",
    "    monthArr = []\n",
    "    monthNamesArr = []\n",
    "    dayArr = []\n",
    "    seasonArr = []\n",
    "    #Months & Seasons (Spring: March-May/03-05, Summer: June-August/06-08, Fall/Autumn: )\n",
    "    monthNames = ['','January', 'February', 'March', 'April', 'May', 'June', 'July', 'August', 'September', 'October', 'November', 'December']\n",
    "    #Fall/Autumn: September, October, November [09-11]\n",
    "    #Winter: December, January, February [12-02]\n",
    "    seasonNames = ['','Winter', 'Winter', 'Spring', 'Spring', 'Spring', 'Summer','Summer','Summer','Fall','Fall','Fall','Winter']\n",
    "    for x in df.DateTime:\n",
    "        datetimestrp = datetime.strptime(x, '%Y-%m-%d')\n",
    "        yearArr.append(datetimestrp.year)\n",
    "        monthArr.append(datetimestrp.month)\n",
    "        dayArr.append(datetimestrp.day)\n",
    "       # print(monthNames[int(datetimestrp.month)])\n",
    "        monthNamesArr.append(monthNames[int(datetimestrp.month)])\n",
    "        seasonArr.append(seasonNames[int(datetimestrp.month)])\n",
    "    df['Month'] = monthArr\n",
    "    df['Day'] = dayArr\n",
    "    df['Year'] = yearArr\n",
    "    df['MonthName'] = monthNamesArr\n",
    "    df['Season'] = seasonArr\n",
    "    return df\n",
    "\n",
    "\n",
    "newpd = dateTimeConversion(pdAMGEN)\n",
    "print(newpd)\n",
    "\n",
    "#plt.scatter(pdAMGEN.Close,pdAMGEN2020)\n",
    "#plt.show()"
   ]
  },
  {
   "cell_type": "code",
   "execution_count": 17,
   "metadata": {},
   "outputs": [
    {
     "name": "stdout",
     "output_type": "stream",
     "text": [
      "          DateTime      Time    Open       Low   Close       Volume  Month  \\\n",
      "0       2020-04-21  00:00:00  173.50  166.1102  167.82   55826672.0      4   \n",
      "1       2020-04-20  00:00:00  176.63  174.9900  175.06   36669595.0      4   \n",
      "2       2020-04-17  00:00:00  179.50  175.8700  178.60   52765625.0      4   \n",
      "3       2020-04-16  00:00:00  174.30  172.9000  177.04   50479610.0      4   \n",
      "4       2020-04-15  00:00:00  171.20  169.2400  171.88   40940833.0      4   \n",
      "...            ...       ...     ...       ...     ...          ...    ...   \n",
      "125770  2000-04-27  00:00:00   67.44   67.3700   69.81   38834900.0      4   \n",
      "125771  2000-04-26  00:00:00   70.00   67.3700   68.00   53545600.0      4   \n",
      "125772  2000-04-25  00:00:00   68.75   67.6200   69.37   79758700.0      4   \n",
      "125773  2000-04-24  00:00:00   67.25   65.0000   66.62  156822900.0      4   \n",
      "125774  2000-04-20  00:00:00   78.62   77.5000   78.94   26193700.0      4   \n",
      "\n",
      "        Day  Year MonthName  Season  Open_to_Close  \n",
      "0        21  2020     April  Spring           5.68  \n",
      "1        20  2020     April  Spring           1.57  \n",
      "2        17  2020     April  Spring           0.90  \n",
      "3        16  2020     April  Spring          -2.74  \n",
      "4        15  2020     April  Spring          -0.68  \n",
      "...     ...   ...       ...     ...            ...  \n",
      "125770   27  2000     April  Spring          -2.37  \n",
      "125771   26  2000     April  Spring           2.00  \n",
      "125772   25  2000     April  Spring          -0.62  \n",
      "125773   24  2000     April  Spring           0.63  \n",
      "125774   20  2000     April  Spring          -0.32  \n",
      "\n",
      "[125775 rows x 12 columns]\n"
     ]
    },
    {
     "data": {
      "text/plain": [
       "[<matplotlib.lines.Line2D at 0x1c7ce4c2908>]"
      ]
     },
     "execution_count": 17,
     "metadata": {},
     "output_type": "execute_result"
    },
    {
     "data": {
      "image/png": "[encoded data removed]",
      "text/plain": [
       "<Figure size 1280x960 with 1 Axes>"
      ]
     },
     "metadata": {
      "needs_background": "light"
     },
     "output_type": "display_data"
    }
   ],
   "source": [
    "#uniqueYears = newpd.Year.unique()\n",
    "newpd['Open_to_Close'] = newpd.Open - newpd.Close\n",
    "print(newpd)\n",
    "\n",
    "plt.figure(figsize=(16,12), dpi= 80)\n",
    "plt.plot(newpd.Year, newpd.Month)\n",
    "\n",
    "#for i, y in enumerate(uniqueYears):\n",
    "#    plt.plot('month','value', data = newpd.loc[newpd.Year==y,:], label=y)"
   ]
  },
  {
   "cell_type": "code",
   "execution_count": 10,
   "metadata": {},
   "outputs": [
    {
     "name": "stderr",
     "output_type": "stream",
     "text": [
      "C:\\Users\\chappie\\Anaconda3\\lib\\site-packages\\pandas\\plotting\\_matplotlib\\converter.py:103: FutureWarning: Using an implicitly registered datetime converter for a matplotlib plotting method. The converter was registered by pandas on import. Future versions of pandas will require you to explicitly register matplotlib converters.\n",
      "\n",
      "To register the converters:\n",
      "\t>>> from pandas.plotting import register_matplotlib_converters\n",
      "\t>>> register_matplotlib_converters()\n",
      "  warnings.warn(msg, FutureWarning)\n"
     ]
    },
    {
     "data": {
      "image/png": "[encoded data removed]",
      "text/plain": [
       "<Figure size 432x288 with 1 Axes>"
      ]
     },
     "metadata": {
      "needs_background": "light"
     },
     "output_type": "display_data"
    }
   ],
   "source": [
    "#Plot Data for Fun!\n",
    "plt.scatter(allData.DateTime,allData.Open)\n",
    "plt.show()"
   ]
  },
  {
   "cell_type": "code",
   "execution_count": 11,
   "metadata": {},
   "outputs": [
    {
     "name": "stdout",
     "output_type": "stream",
     "text": [
      "0     3242733.0\n",
      "1     2009502.0\n",
      "2     1059334.0\n",
      "3     1200330.0\n",
      "4      934889.0\n",
      "        ...    \n",
      "95     500882.0\n",
      "96     522875.0\n",
      "97     455427.0\n",
      "98     537203.0\n",
      "99     482648.0\n",
      "Name: Volume, Length: 100, dtype: float64\n"
     ]
    },
    {
     "data": {
      "text/plain": [
       "<matplotlib.axes._subplots.AxesSubplot at 0x2706ff93cc8>"
      ]
     },
     "execution_count": 11,
     "metadata": {},
     "output_type": "execute_result"
    },
    {
     "data": {
      "image/png": "[encoded data removed]",
      "text/plain": [
       "<Figure size 432x288 with 1 Axes>"
      ]
     },
     "metadata": {
      "needs_background": "light"
     },
     "output_type": "display_data"
    }
   ],
   "source": [
    "print(allData['Volume'])\n",
    "allData['Volume'].plot.bar()"
   ]
  },
  {
   "cell_type": "code",
   "execution_count": 17,
   "metadata": {},
   "outputs": [],
   "source": [
    "#print(data)\n",
    "df = pd.DataFrame([data])\n",
    "timeSeries = 'Time Series (5min)'\n",
    "dfTimeSeries = df[timeSeries]\n",
    "#print(type(dfTimeSeries))"
   ]
  },
  {
   "cell_type": "code",
   "execution_count": 1,
   "metadata": {},
   "outputs": [],
   "source": []
  },
  {
   "cell_type": "code",
   "execution_count": null,
   "metadata": {},
   "outputs": [],
   "source": []
  },
  {
   "cell_type": "code",
   "execution_count": null,
   "metadata": {},
   "outputs": [],
   "source": []
  },
  {
   "cell_type": "code",
   "execution_count": null,
   "metadata": {},
   "outputs": [],
   "source": []
  }
 ],
 "metadata": {
  "kernelspec": {
   "display_name": "Python 3",
   "language": "python",
   "name": "python3"
  },
  "language_info": {
   "codemirror_mode": {
    "name": "ipython",
    "version": 3
   },
   "file_extension": ".py",
   "mimetype": "text/x-python",
   "name": "python",
   "nbconvert_exporter": "python",
   "pygments_lexer": "ipython3",
   "version": "3.7.4"
  }
 },
 "nbformat": 4,
 "nbformat_minor": 4
}
