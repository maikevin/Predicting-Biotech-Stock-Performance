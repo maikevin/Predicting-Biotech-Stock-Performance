{
 "cells": [
  {
   "cell_type": "code",
   "execution_count": 3,
   "metadata": {},
   "outputs": [],
   "source": [
    "#Loading Packages\n",
    "import pandas as pd\n",
    "import numpy as np\n",
    "import seaborn as sns\n",
    "import matplotlib.pyplot as plt\n",
    "#import tensorflow as tf\n",
    "import time"
   ]
  },
  {
   "cell_type": "code",
   "execution_count": 4,
   "metadata": {},
   "outputs": [
    {
     "data": {
      "text/plain": [
       "'\\nimport http.client\\nconn = http.client.HTTPSConnection(\"apidojo-yahoo-finance-v1.p.rapidapi.com\")\\n\\nheaders = {\\n    \\'x-rapidapi-host\\': \"apidojo-yahoo-finance-v1.p.rapidapi.com\",\\n    \\'x-rapidapi-key\\': \"f3c5d97aefmshe2263ee3478a9e0p1c300fjsned29aa96f6bc\"\\n    }\\n\\nconn.request(\"GET\", \"/market/get-charts?comparisons=%255EGDAXI%252C%255EFCHI&region=US&lang=en&symbol=HYDR.ME&interval=5m&range=1d\", headers=headers)\\n\\nres = conn.getresponse()\\ndata = res.read()\\n#print(data.decode(\"utf-8\"))\\n'"
      ]
     },
     "execution_count": 4,
     "metadata": {},
     "output_type": "execute_result"
    }
   ],
   "source": [
    "\"\"\"\n",
    "import http.client\n",
    "conn = http.client.HTTPSConnection(\"apidojo-yahoo-finance-v1.p.rapidapi.com\")\n",
    "\n",
    "headers = {\n",
    "    'x-rapidapi-host': \"apidojo-yahoo-finance-v1.p.rapidapi.com\",\n",
    "    'x-rapidapi-key': \"f3c5d97aefmshe2263ee3478a9e0p1c300fjsned29aa96f6bc\"\n",
    "    }\n",
    "\n",
    "conn.request(\"GET\", \"/market/get-charts?comparisons=%255EGDAXI%252C%255EFCHI&region=US&lang=en&symbol=HYDR.ME&interval=5m&range=1d\", headers=headers)\n",
    "\n",
    "res = conn.getresponse()\n",
    "data = res.read()\n",
    "#print(data.decode(\"utf-8\"))\n",
    "\"\"\""
   ]
  },
  {
   "cell_type": "code",
   "execution_count": 5,
   "metadata": {},
   "outputs": [],
   "source": [
    "#documentation https://www.alphavantage.co/documentation/\n",
    "api_key = open('..\\Capstone_Project_1\\API_KEY.txt','r').read()\n",
    "#function: TIME_SERIES_INTRADAY,TIME_SERIES_DAILY_ADJUSTED, TIME_SERIES WEEKLY, TIME_SERIES_WEEKLYADJUSTED...monthly\n",
    "#extra functions to ask: VWAP, EMA, RSI, ADX, MACD\n",
    "function = 'TIME_SERIES_INTRADAY'\n",
    "ticker = 'MSFT'\n",
    "#Intervals: 1min, 5m,15m,30m,60m\n",
    "interval='5min'\n",
    "#outputsize: compact (>=100 data points), full (full-length)\n",
    "def useAPI(function, ticker, interval, output):\n",
    "    AV_API = 'https://www.alphavantage.co/query?function='+ function +'&symbol='+ ticker + '&interval='+ interval +'&apikey=' + api_key\n",
    "    return AV_API\n",
    "\n",
    "#Grab All Biotech Tickers\n",
    "#Run Loop through API request <- 500+ Requests\n",
    "#Put DataFrame\n",
    "\n",
    "#Daily; check range intervals; get limits to the API (Call, pause, waiting time...), start a sector -> Find Major\n",
    "#.csv"
   ]
  },
  {
   "cell_type": "code",
   "execution_count": 6,
   "metadata": {},
   "outputs": [
    {
     "name": "stdout",
     "output_type": "stream",
     "text": [
      "Request is successful.\n"
     ]
    }
   ],
   "source": [
    "import requests\n",
    "data = requests.get(useAPI(function,ticker,interval, ''))\n",
    "data = data.json()\n",
    "\n",
    "if data:\n",
    "    print('Request is successful.')\n",
    "else:\n",
    "    print('Request returned an error.')"
   ]
  },
  {
   "cell_type": "code",
   "execution_count": 7,
   "metadata": {},
   "outputs": [
    {
     "name": "stdout",
     "output_type": "stream",
     "text": [
      "Content inside API:\n",
      "Intraday (5min) open, high, low, close prices and volume\n",
      "MSFT\n",
      "2020-03-18 16:00:00\n",
      "5min\n",
      "Compact\n",
      "US/Eastern\n"
     ]
    }
   ],
   "source": [
    "#Exploring API\n",
    "timeSeries = 'Time Series (5min)'\n",
    "metaStr = 'Meta Data'\n",
    "metaData = data[metaStr]\n",
    "\n",
    "print('Content inside API:')\n",
    "for i in metaData:\n",
    "    print(metaData[i])\n",
    "#print(timeIntervals)"
   ]
  },
  {
   "cell_type": "code",
   "execution_count": 8,
   "metadata": {},
   "outputs": [
    {
     "name": "stdout",
     "output_type": "stream",
     "text": [
      "Time Interval and Values are the Same Length. Ok to continue program!\n"
     ]
    }
   ],
   "source": [
    "#Define Arrays\n",
    "timeIntervals = []\n",
    "dfValues = []\n",
    "\n",
    "#Define Columns in list form.\n",
    "openingValue = []\n",
    "highValue = []\n",
    "lowValue = []\n",
    "closeValue = []\n",
    "volumeValue = []\n",
    "\n",
    "#Create DataFrame to grab.\n",
    "df = pd.DataFrame([data])\n",
    "dataTimeSeries = df[timeSeries]\n",
    "\n",
    "#Grab Values from Time Series.\n",
    "for j, k in dataTimeSeries.items():\n",
    "    #Separate Time interval (l) into one list, and values (m) into dfValues.\n",
    "    for l, m in k.items():\n",
    "        timeIntervals.append(l)\n",
    "        dfValues.append(m)\n",
    "        #Loop through dfValues to turn extra values from dictionary.\n",
    "        #n value example: 1. open, 2. high...\n",
    "        #o value for n: 140.2300, 143.8400...\n",
    "        loopCount = 0\n",
    "        for n, o in m.items():\n",
    "            if (n == '1. open'):\n",
    "                openingValue.append(o)\n",
    "            if (n == '2. high'):\n",
    "                highValue.append(o)\n",
    "            if (n == '3. low'):\n",
    "                lowValue.append(o)\n",
    "            if (n == '4. close'):\n",
    "                closeValue.append(o)\n",
    "            if (n == '5. volume'):\n",
    "                volumeValue.append(o)\n",
    "\n",
    "#Checking the lengths if it is equal.\n",
    "if len(timeIntervals) == len(dfValues):\n",
    "    print(\"Time Interval and Values are the Same Length. Ok to continue program!\")"
   ]
  },
  {
   "cell_type": "code",
   "execution_count": 9,
   "metadata": {},
   "outputs": [
    {
     "name": "stdout",
     "output_type": "stream",
     "text": [
      "0     16:00:00\n",
      "1     15:55:00\n",
      "2     15:50:00\n",
      "3     15:45:00\n",
      "4     15:40:00\n",
      "        ...   \n",
      "95    14:25:00\n",
      "96    14:20:00\n",
      "97    14:15:00\n",
      "98    14:10:00\n",
      "99    14:05:00\n",
      "Name: Time, Length: 100, dtype: object\n",
      "DateTime    datetime64[ns]\n",
      "Time                object\n",
      "Open               float64\n",
      "Low                float64\n",
      "Close              float64\n",
      "Volume             float64\n",
      "dtype: object\n"
     ]
    }
   ],
   "source": [
    "#Create our data set\n",
    "from datetime import datetime\n",
    "\n",
    "allData = pd.DataFrame()\n",
    "allData['DateTime'] = timeIntervals\n",
    "allData['DateTime'] = pd.to_datetime(allData['DateTime'], errors='coerce')\n",
    "allData['Time'] = allData['DateTime'].dt.time\n",
    "#allData['Time'] = pd.to_timedelta(allData['Time'], errors='coerce')\n",
    "print(allData['Time'])\n",
    "allData['Open'] = openingValue\n",
    "allData['Open'] = allData['Open'].astype(float)\n",
    "allData['Low'] = lowValue\n",
    "allData['Low'] = allData['Low'].astype(float)\n",
    "allData['Close'] = closeValue\n",
    "allData['Close'] = allData['Close'].astype(float)\n",
    "allData['Volume'] = volumeValue\n",
    "allData['Volume'] = allData['Volume'].astype(float)\n",
    "print(allData.dtypes)"
   ]
  },
  {
   "cell_type": "code",
   "execution_count": 10,
   "metadata": {},
   "outputs": [
    {
     "name": "stderr",
     "output_type": "stream",
     "text": [
      "C:\\Users\\chappie\\Anaconda3\\lib\\site-packages\\pandas\\plotting\\_matplotlib\\converter.py:103: FutureWarning: Using an implicitly registered datetime converter for a matplotlib plotting method. The converter was registered by pandas on import. Future versions of pandas will require you to explicitly register matplotlib converters.\n",
      "\n",
      "To register the converters:\n",
      "\t>>> from pandas.plotting import register_matplotlib_converters\n",
      "\t>>> register_matplotlib_converters()\n",
      "  warnings.warn(msg, FutureWarning)\n"
     ]
    },
    {
     "data": {
      "image/png": "[encoded data removed]",
      "text/plain": [
       "<Figure size 432x288 with 1 Axes>"
      ]
     },
     "metadata": {
      "needs_background": "light"
     },
     "output_type": "display_data"
    }
   ],
   "source": [
    "#Plot Data for Fun!\n",
    "plt.scatter(allData.DateTime,allData.Open)\n",
    "plt.show()"
   ]
  },
  {
   "cell_type": "code",
   "execution_count": 11,
   "metadata": {},
   "outputs": [
    {
     "name": "stdout",
     "output_type": "stream",
     "text": [
      "0     3242733.0\n",
      "1     2009502.0\n",
      "2     1059334.0\n",
      "3     1200330.0\n",
      "4      934889.0\n",
      "        ...    \n",
      "95     500882.0\n",
      "96     522875.0\n",
      "97     455427.0\n",
      "98     537203.0\n",
      "99     482648.0\n",
      "Name: Volume, Length: 100, dtype: float64\n"
     ]
    },
    {
     "data": {
      "text/plain": [
       "<matplotlib.axes._subplots.AxesSubplot at 0x2706ff93cc8>"
      ]
     },
     "execution_count": 11,
     "metadata": {},
     "output_type": "execute_result"
    },
    {
     "data": {
      "image/png": "[encoded data removed]",
      "text/plain": [
       "<Figure size 432x288 with 1 Axes>"
      ]
     },
     "metadata": {
      "needs_background": "light"
     },
     "output_type": "display_data"
    }
   ],
   "source": [
    "print(allData['Volume'])\n",
    "allData['Volume'].plot.bar()"
   ]
  },
  {
   "cell_type": "code",
   "execution_count": 17,
   "metadata": {},
   "outputs": [],
   "source": [
    "#print(data)\n",
    "df = pd.DataFrame([data])\n",
    "timeSeries = 'Time Series (5min)'\n",
    "dfTimeSeries = df[timeSeries]\n",
    "#print(type(dfTimeSeries))"
   ]
  },
  {
   "cell_type": "code",
   "execution_count": 13,
   "metadata": {},
   "outputs": [],
   "source": [
    "#Grab all Biotech Tickers from Finviz\n",
    "import urllib\n",
    "import re\n",
    "from bs4 import BeautifulSoup"
   ]
  },
  {
   "cell_type": "code",
   "execution_count": 20,
   "metadata": {},
   "outputs": [
    {
     "name": "stdout",
     "output_type": "stream",
     "text": [
      "                  Name\n",
      "0  NanoViricides, Inc.\n",
      "End\n"
     ]
    }
   ],
   "source": [
    "collectDataUrl = \"https://finviz.com/quote.ashx?t=NNVC\"\n",
    "connection = urllib.request.urlopen(collectDataUrl)\n",
    "output = connection.read()\n",
    "parser = BeautifulSoup(output, 'html.parser')\n",
    "findTableData = parser.find_all('tr', attrs={'class':'table-dark-row'})\n",
    "findInputBox = parser.find_all(\"tr\", class_=\"table-dark-row\")\n",
    "#print(findInputBox)\n",
    "#print(findTableData)\n",
    "rowCounter = 0\n",
    "firstVector = []\n",
    "secondVector = []\n",
    "nameOfStock = \"\"\n",
    "for row in parser.findAll('a', attrs={'class': 'tab-link','target':'_blank'}):\n",
    "    firstVector.append('Name')\n",
    "    secondVector.append(row.text)\n",
    "    break\n",
    "\"\"\"for row in parser.findAll('tr', attrs={'class':'table-dark-row'}):\n",
    "    for data in row.findAll('td'):\n",
    "        rowCounter += 1\n",
    "        if (rowCounter % 2 == 0):\n",
    "            secondVector.append(data.text)\n",
    "        else:\n",
    "            firstVector.append(data.text)\n",
    "\"\"\"\n",
    "df = pd.DataFrame(secondVector, index=firstVector)\n",
    "df = df.T\n",
    "print(df.head())\n",
    "#export_csv = df.to_csv (r'C:\\Users\\chappie\\Desktop\\export_dataframe.xlsx', index = None, header=True) \n",
    "connection.close()\n",
    "print(\"End\")"
   ]
  },
  {
   "cell_type": "code",
   "execution_count": null,
   "metadata": {},
   "outputs": [],
   "source": []
  },
  {
   "cell_type": "code",
   "execution_count": null,
   "metadata": {},
   "outputs": [],
   "source": []
  }
 ],
 "metadata": {
  "kernelspec": {
   "display_name": "Python 3",
   "language": "python",
   "name": "python3"
  },
  "language_info": {
   "codemirror_mode": {
    "name": "ipython",
    "version": 3
   },
   "file_extension": ".py",
   "mimetype": "text/x-python",
   "name": "python",
   "nbconvert_exporter": "python",
   "pygments_lexer": "ipython3",
   "version": "3.7.4"
  }
 },
 "nbformat": 4,
 "nbformat_minor": 4
}
