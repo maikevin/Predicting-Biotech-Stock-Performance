{
 "cells": [
  {
   "cell_type": "code",
   "execution_count": 1,
   "metadata": {},
   "outputs": [],
   "source": [
    "#Loading Data Tool Packages\n",
    "import pandas as pd\n",
    "import numpy as np\n",
    "import json\n",
    "\n",
    "#Packages for plotting\n",
    "import seaborn as sns\n",
    "import matplotlib.pyplot as plt\n",
    "\n",
    "#Packages for datetime conversions\n",
    "import time\n",
    "import datetime as dt\n",
    "from datetime import datetime\n",
    "\n",
    "#Packages for Web-scraping\n",
    "import urllib\n",
    "import re\n",
    "from bs4 import BeautifulSoup\n",
    "import csv\n",
    "import requests"
   ]
  },
  {
   "cell_type": "markdown",
   "metadata": {},
   "source": [
    "## Using Finviz (fz), web-scraping performed to grab majority of biotechnology and healthcare sector stocks tickers."
   ]
  },
  {
   "cell_type": "code",
   "execution_count": 3,
   "metadata": {},
   "outputs": [
    {
     "name": "stdout",
     "output_type": "stream",
     "text": [
      "Program Total RunTime:  86.16185808181763\n"
     ]
    }
   ],
   "source": [
    "start = time.time()\n",
    "\n",
    "fzBiotechURL = \"https://finviz.com/screener.ashx?v=111&f=ind_biotechnology\"\n",
    "fzConnection = urllib.request.urlopen(fzBiotechURL)\n",
    "fzOutput = fzConnection.read()\n",
    "fzParser = BeautifulSoup(fzOutput, 'html.parser')\n",
    "listOfTickers = []\n",
    "listOfPages = []\n",
    "\n",
    "#Grab all links to pages\n",
    "for page in fzParser.findAll('a', attrs={'class': 'screener-pages'}):\n",
    "    listOfPages.append(page.text)\n",
    "\n",
    "lastPage = listOfPages[-1:]\n",
    "linksOfPageNumbers = []\n",
    "linksOfPages = []\n",
    "\n",
    "for num in range(int(lastPage[0])):\n",
    "    num = (num * 20)+1 \n",
    "    linksOfPageNumbers.append(num)\n",
    "\n",
    "for num in linksOfPageNumbers:\n",
    "    newLinks = \"https://finviz.com/screener.ashx?v=111&f=ind_biotechnology&r=\"+str(num)\n",
    "    linksOfPages.append(newLinks)\n",
    "\n",
    "\n",
    "def grabAllBiotechURLs(array):\n",
    "    listOfTickers = []\n",
    "    listOfPages = []\n",
    "\n",
    "    for url in array:\n",
    "        fzConnection = urllib.request.urlopen(url)\n",
    "        fzOutput = fzConnection.read()\n",
    "        fzParser = BeautifulSoup(fzOutput, 'html.parser')\n",
    "        \n",
    "        #Grab all the Tickers\n",
    "        for tr in fzParser.findAll('td', attrs={'class': 'screener-body-table-nw'}):\n",
    "            for line in tr.findAll('a', attrs={'class': 'screener-link-primary'}):\n",
    "                listOfTickers.append(line.text)\n",
    "                break\n",
    "    return listOfTickers\n",
    "\n",
    "finalURL = grabAllBiotechURLs(linksOfPages[1:])\n",
    "#np.savetxt(\"foo.csv\", linksOfPages)\n",
    "\n",
    "#export_csv = df.to_csv (r'C:\\Users\\chappie\\Desktop\\export_dataframe.xlsx', index = None, header=True) \n",
    "fzConnection.close()\n",
    "\n",
    "end = time.time()\n",
    "print(\"Program Total RunTime: \", end - start)"
   ]
  },
  {
   "cell_type": "markdown",
   "metadata": {},
   "source": [
    "## Using Alpha Vantage, dataframe will be created to look at historical data from 2000 - 2020.\n",
    "Reference documentation: https://www.alphavantage.co/documentation/\n",
    "\n",
    "Possible Use with these built-in functions: VWAP, EMA, RSI, ADX, MACD"
   ]
  },
  {
   "cell_type": "code",
   "execution_count": 4,
   "metadata": {},
   "outputs": [
    {
     "name": "stdout",
     "output_type": "stream",
     "text": [
      "['AGEN', 'AGIO', 'AGLE', 'AGTC', 'AIKI', 'AIM', 'AIMT', 'AKBA', 'AKCA', 'AKRO', 'AKTX', 'ALBO', 'ALDX', 'ALEC', 'ALKS', 'ALLK', 'ALLO', 'ALNA', 'ALNY', 'ALPN', 'ALRN', 'ALT', 'ALXN', 'AMAG', 'AMGN', 'AMPE', 'AMRN', 'ANAB', 'ANCN', 'ANIK', 'ANIP', 'ANPC', 'ANVS', 'APLS', 'APLT', 'APM', 'APOP', 'APRE', 'APTO', 'APTX', 'APVO', 'AQB', 'AQST', 'ARAV', 'ARCT', 'ARDS', 'ARDX', 'ARGX', 'ARMP', 'ARNA', 'ARPO', 'ARQT', 'ARTL', 'ARVN', 'ARWR', 'ASLN', 'ASMB', 'ASND', 'ATHE', 'ATHX', 'ATNM', 'ATNX', 'ATOS', 'ATRA', 'ATXI', 'AUPH', 'AUTL', 'AVDL', 'AVEO', 'AVRO', 'AVXL', 'AXGT', 'AXLA', 'AXSM', 'AYTU', 'AZRX', 'BBI', 'BBIO', 'BCDA', 'BCEL', 'BCLI', 'BCRX', 'BCYC', 'BDSI', 'BDTX', 'BEAM', 'BFRA', 'BGNE', 'BHVN', 'BIIB', 'BLCM', 'BLPH', 'BLRX', 'BLU', 'BLUE', 'BMRN', 'BNTC', 'BNTX', 'BPMC', 'BPMX', 'BPTH', 'BSTC', 'BTAI', 'BVXV', 'BXRX', 'BYSI', 'CABA', 'CALA', 'CANF', 'CAPR', 'CARA', 'CASI', 'CATB', 'CBAY', 'CBIO', 'CBLI', 'CBMG', 'CBPO', 'CCXI', 'CDMO', 'CDMOP', 'CDTX', 'CDXC', 'CDXS', 'CERC', 'CERS', 'CFRX', 'CGEN', 'CGIX', 'CHMA', 'CHRS', 'CKPT', 'CLBS', 'CLDX', 'CLGN', 'CLLS', 'CLRB', 'CLSD', 'CLSN', 'CLVS', 'CMRX', 'CNAT', 'CNCE', 'CNSP', 'CNST', 'COCP', 'CORT', 'CPRX', 'CRBP', 'CRIS', 'CRMD', 'CRNX', 'CRON', 'CRSP', 'CRTX', 'CRVS', 'CSBR', 'CTIC', 'CTMX', 'CTXR', 'CUE', 'CVM', 'CWBR', 'CYAD', 'CYAN', 'CYCC', 'CYCCP', 'CYCN', 'CYTK', 'DARE', 'DBVT', 'DCPH', 'DFFN', 'DMAC', 'DMPI', 'DNLI', 'DRNA', 'DTIL', 'DVAX', 'EARS', 'EBS', 'EDIT', 'EDSA', 'EIDX', 'EIGR', 'ELOX', 'ENLV', 'ENOB', 'ENTA', 'ENTX', 'EPIX', 'EPZM', 'EQ', 'ERYP', 'ESPR', 'ETNB', 'ETON', 'ETTX', 'EVFM', 'EVGN', 'EVLO', 'EXEL', 'EYEG', 'EYEN', 'EYPT', 'FATE', 'FBIO', 'FBIOP', 'FENC', 'FGEN', 'FIXX', 'FOLD', 'FPRX', 'FREQ', 'FULC', 'FWP', 'GALT', 'GBT', 'GERN', 'GILD', 'GLMD', 'GLPG', 'GLYC', 'GMAB', 'GMDA', 'GNCA', 'GNFT', 'GNPX', 'GOSS', 'GRTS', 'GRTX', 'GTHX', 'HALO', 'HARP', 'HEPA', 'HOOK', 'HOTH', 'HRTX', 'HTBX', 'IBIO', 'ICCC', 'ICPT', 'IDRA', 'IDYA', 'IFRX', 'IGMS', 'ILMN', 'IMAB', 'IMGN', 'IMMP', 'IMMU', 'IMRA', 'IMRN', 'IMUX', 'IMV', 'IMVT', 'IMVTU', 'INCY', 'INFI', 'INMB', 'INNT', 'INO', 'INSM', 'INVA', 'IONS', 'IOVA', 'IPHA', 'ISEE', 'ITCI', 'ITRM', 'JAGX', 'JAZZ', 'JNCE', 'KALA', 'KALV', 'KDMN', 'KIN', 'KLDO', 'KMDA', 'KMPH', 'KNSA', 'KOD', 'KPTI', 'KROS', 'KRTX', 'KRYS', 'KTOV', 'KURA', 'KZIA', 'KZR', 'LCTX', 'LGND', 'LIFE', 'LJPC', 'LMNL', 'LOGC', 'LPCN', 'LPTX', 'LQDA', 'LUMO', 'LXRX', 'MACK', 'MBIO', 'MBRX', 'MCRB', 'MDGL', 'MDWD', 'MEIP', 'MESO', 'MGEN', 'MGNX', 'MGTA', 'MGTX', 'MIRM', 'MIST', 'MITO', 'MLND', 'MNKD', 'MNLO', 'MNOV', 'MNPR', 'MOR', 'MORF', 'MREO', 'MRKR', 'MRNA', 'MRNS', 'MRSN', 'MRTX', 'MRUS', 'MTEM', 'MTNB', 'MTP', 'MYOK', 'MYOV', 'NAVB', 'NBIX', 'NBRV', 'NBSE', 'NBY', 'NCNA', 'NEPT', 'NERV', 'NGM', 'NK', 'NKTR', 'NLTX', 'NNVC', 'NOVN', 'NRBO', 'NSTG', 'NTEC', 'NTGN', 'NTLA', 'NTRP', 'NVAX', 'NVIV', 'NVO', 'NVUS', 'NXTC', 'NYMX', 'OBSV', 'OCGN', 'OCUL', 'OCX', 'ODT', 'OGEN', 'OMER', 'ONCS', 'ONCT', 'ONCY', 'ONTX', 'OPK', 'OPNT', 'ORGS', 'ORMP', 'ORTX', 'OSMT', 'OTIC', 'OTLK', 'OVID', 'OYST', 'PACB', 'PASG', 'PBYI', 'PDLI', 'PDSB', 'PFNX', 'PGEN', 'PGNX', 'PHAS', 'PHAT', 'PHIO', 'PIRS', 'PLX', 'PLXP', 'PRNB', 'PRQR', 'PRTA', 'PRTK', 'PRVB', 'PRVL', 'PSNL', 'PSTI', 'PSTV', 'PTCT', 'PTE', 'PTGX', 'PTI', 'PTLA', 'PTN', 'PULM', 'QTRX', 'QURE', 'RAPT', 'RARE', 'RCKT', 'RCUS', 'RDHL', 'RDUS', 'REGN', 'REPH', 'REPL', 'RETA', 'REXN', 'RFL', 'RGLS', 'RGNX', 'RIGL', 'RLMD', 'RTRX', 'RTTR', 'RUBY', 'RVMD', 'RVNC', 'RYTM', 'SAGE', 'SAVA', 'SBBP', 'SBPH', 'SCPH', 'SEEL', 'SELB', 'SESN', 'SGEN', 'SGMO', 'SIGA', 'SLGL', 'SLRX', 'SLS', 'SMMT', 'SNCA', 'SNDX', 'SNGX', 'SNSS', 'SONN', 'SPHS', 'SPPI', 'SPRO', 'SRNE', 'SRPT', 'SRRA', 'SRRK', 'STML', 'STOK', 'STRO', 'STSA', 'SURF', 'SVRA', 'SWTX', 'SYBX', 'SYN', 'SYRS', 'TARA', 'TBIO', 'TBPH', 'TCON', 'TCRR', 'TECH', 'TENX', 'TFFP', 'TGTX', 'TLC', 'TLGT', 'TLSA', 'TNXP', 'TOCA', 'TORC', 'TPTX', 'TRIL', 'TROV', 'TRPX', 'TRVI', 'TRVN', 'TTNP', 'TTPH', 'TYME', 'UBX', 'UMRX', 'URGN', 'UROV', 'UTHR', 'VBIV', 'VBLT', 'VCEL', 'VCNX', 'VCYT', 'VIE', 'VIR', 'VKTX', 'VNDA', 'VRCA', 'VRNA', 'VRTX', 'VSTM', 'VTGN', 'VTVT', 'VVUS', 'VXRT', 'VYGR', 'WVE', 'XBIO', 'XBIT', 'XCUR', 'XENE', 'XERS', 'XFOR', 'XLRN', 'XNCR', 'XOMA', 'XTLB', 'XXII', 'YMAB', 'ZEAL', 'ZFGN', 'ZGNX', 'ZIOP', 'ZLAB', 'ZNTL', 'ZSAN', 'ZYME', 'ZYNE']\n"
     ]
    }
   ],
   "source": [
    "api_dir = r\"C:\\Users\\chappie\\Documents\\GitHub\\Predicting_Biotech_Stock_Performance\\API_KEY.txt\"\n",
    "api_key = open(api_dir,\"r\").read()\n",
    "\n",
    "#Writing function queries into array from documentation\n",
    "alphaVFunctions = ['TIME_SERIES_INTRADAY','TIME_SERIES_DAILY','TIME_SERIES_DAILY_ADJUSTED','TIME_SERIES_WEEKLY','TIME_SERIES_MONTHLY', 'TIME_SERIES_WEEKLY_ADJUSTED','TIME_SERIES_MONTHLY_ADJUSTED']\n",
    "\n",
    "#Writing Interval queries into array from documentation\n",
    "alphaVIntervals = ['1min', '5min', '15min', '30min', '60min']\n",
    "\n",
    "#Using List from Finviz\n",
    "print(finalURL)\n",
    "\n",
    "#Using Temporary Placeholder Ticker\n",
    "ticker = 'MSFT'\n",
    "\n",
    "#Using outputsize parameters: full (full-length) rather than compact (>=100 data pts)\n",
    "def useAPI(function, ticker, interval, output):\n",
    "    AV_URL = 'https://www.alphavantage.co/query?function='+ alphaVFunctions[1] +'&symbol='+ ticker + '&interval='+ alphaVIntervals[1] + '&outputsize=full' + '&apikey=' + api_key\n",
    "    return AV_URL"
   ]
  },
  {
   "cell_type": "code",
   "execution_count": 11,
   "metadata": {},
   "outputs": [
    {
     "name": "stdout",
     "output_type": "stream",
     "text": [
      "Request is successful.\n",
      "{'1. Information': 'Daily Prices (open, high, low, close) and Volumes', '2. Symbol': 'MSFT', '3. Last Refreshed': '2020-04-21', '4. Output Size': 'Full size', '5. Time Zone': 'US/Eastern'}\n"
     ]
    }
   ],
   "source": [
    "data = requests.get(useAPI(alphaVFunctions[1],ticker,alphaVIntervals[2], ''))\n",
    "data = data.json()\n",
    "\n",
    "if data:\n",
    "    print('Request is successful.')\n",
    "else:\n",
    "    print('Request returned an error.')\n",
    "    \n",
    "#Printing the Parameters to make proper request.\n",
    "header = data['Meta Data']\n",
    "print(header)"
   ]
  },
  {
   "cell_type": "code",
   "execution_count": 97,
   "metadata": {},
   "outputs": [
    {
     "data": {
      "text/plain": [
       "'\"start = dt.datetime(2000,1,1)\\nrefreshed = \\'3. Last Refreshed\\'\\n#params = dict(refreshed = start)\\ntestResponse = requests.get(useAPI(alphaVFunctions[4],ticker,alphaVIntervals[1],\\'\\')).json()\\n#print(testResponse)\\n#Printing the Parameters to make proper request.\\nmetadata = data[\\'Meta Data\\']\\ntimeseries = data[\\'Time Series (5min)\\']\\nfor i in timeseries.items():\\n    print(i)'"
      ]
     },
     "execution_count": 97,
     "metadata": {},
     "output_type": "execute_result"
    }
   ],
   "source": [
    "#Testing Parameters\n",
    "\"\"\"\"start = dt.datetime(2000,1,1)\n",
    "refreshed = '3. Last Refreshed'\n",
    "#params = dict(refreshed = start)\n",
    "testResponse = requests.get(useAPI(alphaVFunctions[4],ticker,alphaVIntervals[1],'')).json()\n",
    "#print(testResponse)\n",
    "#Printing the Parameters to make proper request.\n",
    "metadata = data['Meta Data']\n",
    "timeseries = data['Time Series (5min)']\n",
    "for i in timeseries.items():\n",
    "    print(i)\"\"\""
   ]
  },
  {
   "cell_type": "code",
   "execution_count": 7,
   "metadata": {},
   "outputs": [],
   "source": [
    "#Exploring API\n",
    "start = dt.datetime(2000,1,1)\n",
    "end = dt.datetime(2020,4,1)\n",
    "params = dict(\n",
    "    start_date = start,\n",
    "    end_date = end\n",
    ")"
   ]
  },
  {
   "cell_type": "code",
   "execution_count": 6,
   "metadata": {},
   "outputs": [],
   "source": [
    "#Define Arrays\n",
    "timeIntervals = []\n",
    "dfValues = []\n",
    "\n",
    "#Define Columns in list form.\n",
    "openingValue = []\n",
    "highValue = []\n",
    "lowValue = []\n",
    "closeValue = []\n",
    "volumeValue = []"
   ]
  },
  {
   "cell_type": "code",
   "execution_count": 15,
   "metadata": {},
   "outputs": [
    {
     "ename": "KeyboardInterrupt",
     "evalue": "",
     "output_type": "error",
     "traceback": [
      "\u001b[1;31m---------------------------------------------------------------------------\u001b[0m",
      "\u001b[1;31mKeyboardInterrupt\u001b[0m                         Traceback (most recent call last)",
      "\u001b[1;32m<ipython-input-15-acfe09f4258b>\u001b[0m in \u001b[0;36m<module>\u001b[1;34m\u001b[0m\n\u001b[0;32m     60\u001b[0m     \u001b[0mallData\u001b[0m\u001b[1;33m[\u001b[0m\u001b[1;34m'Volume'\u001b[0m\u001b[1;33m]\u001b[0m \u001b[1;33m=\u001b[0m \u001b[0mallData\u001b[0m\u001b[1;33m[\u001b[0m\u001b[1;34m'Volume'\u001b[0m\u001b[1;33m]\u001b[0m\u001b[1;33m.\u001b[0m\u001b[0mastype\u001b[0m\u001b[1;33m(\u001b[0m\u001b[0mfloat\u001b[0m\u001b[1;33m)\u001b[0m\u001b[1;33m\u001b[0m\u001b[1;33m\u001b[0m\u001b[0m\n\u001b[0;32m     61\u001b[0m     \u001b[1;31m#print(allData.dtypes)\u001b[0m\u001b[1;33m\u001b[0m\u001b[1;33m\u001b[0m\u001b[1;33m\u001b[0m\u001b[0m\n\u001b[1;32m---> 62\u001b[1;33m     \u001b[0mallData\u001b[0m\u001b[1;33m.\u001b[0m\u001b[0mto_csv\u001b[0m\u001b[1;33m(\u001b[0m\u001b[0murl\u001b[0m \u001b[1;33m+\u001b[0m \u001b[1;34m\".csv\"\u001b[0m\u001b[1;33m,\u001b[0m \u001b[0mencoding\u001b[0m\u001b[1;33m=\u001b[0m\u001b[1;34m'utf-8'\u001b[0m\u001b[1;33m,\u001b[0m \u001b[0mindex\u001b[0m\u001b[1;33m=\u001b[0m\u001b[1;32mFalse\u001b[0m\u001b[1;33m)\u001b[0m\u001b[1;33m\u001b[0m\u001b[1;33m\u001b[0m\u001b[0m\n\u001b[0m\u001b[0;32m     63\u001b[0m \u001b[1;33m\u001b[0m\u001b[0m\n\u001b[0;32m     64\u001b[0m \u001b[1;33m\u001b[0m\u001b[0m\n",
      "\u001b[1;32m~\\Anaconda3\\lib\\site-packages\\pandas\\core\\generic.py\u001b[0m in \u001b[0;36mto_csv\u001b[1;34m(self, path_or_buf, sep, na_rep, float_format, columns, header, index, index_label, mode, encoding, compression, quoting, quotechar, line_terminator, chunksize, date_format, doublequote, escapechar, decimal)\u001b[0m\n\u001b[0;32m   3226\u001b[0m             \u001b[0mdecimal\u001b[0m\u001b[1;33m=\u001b[0m\u001b[0mdecimal\u001b[0m\u001b[1;33m,\u001b[0m\u001b[1;33m\u001b[0m\u001b[1;33m\u001b[0m\u001b[0m\n\u001b[0;32m   3227\u001b[0m         )\n\u001b[1;32m-> 3228\u001b[1;33m         \u001b[0mformatter\u001b[0m\u001b[1;33m.\u001b[0m\u001b[0msave\u001b[0m\u001b[1;33m(\u001b[0m\u001b[1;33m)\u001b[0m\u001b[1;33m\u001b[0m\u001b[1;33m\u001b[0m\u001b[0m\n\u001b[0m\u001b[0;32m   3229\u001b[0m \u001b[1;33m\u001b[0m\u001b[0m\n\u001b[0;32m   3230\u001b[0m         \u001b[1;32mif\u001b[0m \u001b[0mpath_or_buf\u001b[0m \u001b[1;32mis\u001b[0m \u001b[1;32mNone\u001b[0m\u001b[1;33m:\u001b[0m\u001b[1;33m\u001b[0m\u001b[1;33m\u001b[0m\u001b[0m\n",
      "\u001b[1;32m~\\Anaconda3\\lib\\site-packages\\pandas\\io\\formats\\csvs.py\u001b[0m in \u001b[0;36msave\u001b[1;34m(self)\u001b[0m\n\u001b[0;32m    200\u001b[0m                 \u001b[0mself\u001b[0m\u001b[1;33m.\u001b[0m\u001b[0mwriter\u001b[0m \u001b[1;33m=\u001b[0m \u001b[0mUnicodeWriter\u001b[0m\u001b[1;33m(\u001b[0m\u001b[0mf\u001b[0m\u001b[1;33m,\u001b[0m \u001b[1;33m**\u001b[0m\u001b[0mwriter_kwargs\u001b[0m\u001b[1;33m)\u001b[0m\u001b[1;33m\u001b[0m\u001b[1;33m\u001b[0m\u001b[0m\n\u001b[0;32m    201\u001b[0m \u001b[1;33m\u001b[0m\u001b[0m\n\u001b[1;32m--> 202\u001b[1;33m             \u001b[0mself\u001b[0m\u001b[1;33m.\u001b[0m\u001b[0m_save\u001b[0m\u001b[1;33m(\u001b[0m\u001b[1;33m)\u001b[0m\u001b[1;33m\u001b[0m\u001b[1;33m\u001b[0m\u001b[0m\n\u001b[0m\u001b[0;32m    203\u001b[0m \u001b[1;33m\u001b[0m\u001b[0m\n\u001b[0;32m    204\u001b[0m         \u001b[1;32mfinally\u001b[0m\u001b[1;33m:\u001b[0m\u001b[1;33m\u001b[0m\u001b[1;33m\u001b[0m\u001b[0m\n",
      "\u001b[1;32m~\\Anaconda3\\lib\\site-packages\\pandas\\io\\formats\\csvs.py\u001b[0m in \u001b[0;36m_save\u001b[1;34m(self)\u001b[0m\n\u001b[0;32m    322\u001b[0m                 \u001b[1;32mbreak\u001b[0m\u001b[1;33m\u001b[0m\u001b[1;33m\u001b[0m\u001b[0m\n\u001b[0;32m    323\u001b[0m \u001b[1;33m\u001b[0m\u001b[0m\n\u001b[1;32m--> 324\u001b[1;33m             \u001b[0mself\u001b[0m\u001b[1;33m.\u001b[0m\u001b[0m_save_chunk\u001b[0m\u001b[1;33m(\u001b[0m\u001b[0mstart_i\u001b[0m\u001b[1;33m,\u001b[0m \u001b[0mend_i\u001b[0m\u001b[1;33m)\u001b[0m\u001b[1;33m\u001b[0m\u001b[1;33m\u001b[0m\u001b[0m\n\u001b[0m\u001b[0;32m    325\u001b[0m \u001b[1;33m\u001b[0m\u001b[0m\n\u001b[0;32m    326\u001b[0m     \u001b[1;32mdef\u001b[0m \u001b[0m_save_chunk\u001b[0m\u001b[1;33m(\u001b[0m\u001b[0mself\u001b[0m\u001b[1;33m,\u001b[0m \u001b[0mstart_i\u001b[0m\u001b[1;33m,\u001b[0m \u001b[0mend_i\u001b[0m\u001b[1;33m)\u001b[0m\u001b[1;33m:\u001b[0m\u001b[1;33m\u001b[0m\u001b[1;33m\u001b[0m\u001b[0m\n",
      "\u001b[1;32m~\\Anaconda3\\lib\\site-packages\\pandas\\io\\formats\\csvs.py\u001b[0m in \u001b[0;36m_save_chunk\u001b[1;34m(self, start_i, end_i)\u001b[0m\n\u001b[0;32m    338\u001b[0m                 \u001b[0mdecimal\u001b[0m\u001b[1;33m=\u001b[0m\u001b[0mself\u001b[0m\u001b[1;33m.\u001b[0m\u001b[0mdecimal\u001b[0m\u001b[1;33m,\u001b[0m\u001b[1;33m\u001b[0m\u001b[1;33m\u001b[0m\u001b[0m\n\u001b[0;32m    339\u001b[0m                 \u001b[0mdate_format\u001b[0m\u001b[1;33m=\u001b[0m\u001b[0mself\u001b[0m\u001b[1;33m.\u001b[0m\u001b[0mdate_format\u001b[0m\u001b[1;33m,\u001b[0m\u001b[1;33m\u001b[0m\u001b[1;33m\u001b[0m\u001b[0m\n\u001b[1;32m--> 340\u001b[1;33m                 \u001b[0mquoting\u001b[0m\u001b[1;33m=\u001b[0m\u001b[0mself\u001b[0m\u001b[1;33m.\u001b[0m\u001b[0mquoting\u001b[0m\u001b[1;33m,\u001b[0m\u001b[1;33m\u001b[0m\u001b[1;33m\u001b[0m\u001b[0m\n\u001b[0m\u001b[0;32m    341\u001b[0m             )\n\u001b[0;32m    342\u001b[0m \u001b[1;33m\u001b[0m\u001b[0m\n",
      "\u001b[1;32m~\\Anaconda3\\lib\\site-packages\\pandas\\core\\internals\\blocks.py\u001b[0m in \u001b[0;36mto_native_types\u001b[1;34m(self, slicer, na_rep, date_format, quoting, **kwargs)\u001b[0m\n\u001b[0;32m   2340\u001b[0m             \u001b[0mtz\u001b[0m\u001b[1;33m=\u001b[0m\u001b[0mgetattr\u001b[0m\u001b[1;33m(\u001b[0m\u001b[0mself\u001b[0m\u001b[1;33m.\u001b[0m\u001b[0mvalues\u001b[0m\u001b[1;33m,\u001b[0m \u001b[1;34m\"tz\"\u001b[0m\u001b[1;33m,\u001b[0m \u001b[1;32mNone\u001b[0m\u001b[1;33m)\u001b[0m\u001b[1;33m,\u001b[0m\u001b[1;33m\u001b[0m\u001b[1;33m\u001b[0m\u001b[0m\n\u001b[0;32m   2341\u001b[0m             \u001b[0mformat\u001b[0m\u001b[1;33m=\u001b[0m\u001b[0mfmt\u001b[0m\u001b[1;33m,\u001b[0m\u001b[1;33m\u001b[0m\u001b[1;33m\u001b[0m\u001b[0m\n\u001b[1;32m-> 2342\u001b[1;33m             \u001b[0mna_rep\u001b[0m\u001b[1;33m=\u001b[0m\u001b[0mna_rep\u001b[0m\u001b[1;33m,\u001b[0m\u001b[1;33m\u001b[0m\u001b[1;33m\u001b[0m\u001b[0m\n\u001b[0m\u001b[0;32m   2343\u001b[0m         ).reshape(i8values.shape)\n\u001b[0;32m   2344\u001b[0m         \u001b[1;32mreturn\u001b[0m \u001b[0mnp\u001b[0m\u001b[1;33m.\u001b[0m\u001b[0matleast_2d\u001b[0m\u001b[1;33m(\u001b[0m\u001b[0mresult\u001b[0m\u001b[1;33m)\u001b[0m\u001b[1;33m\u001b[0m\u001b[1;33m\u001b[0m\u001b[0m\n",
      "\u001b[1;31mKeyboardInterrupt\u001b[0m: "
     ]
    }
   ],
   "source": [
    "start = time.time()\n",
    "\n",
    "for url in finalURL:\n",
    "    response = requests.get(useAPI(alphaVFunctions[2],url,alphaVIntervals[1], ''), params).json()\n",
    "    #print(response)\n",
    "    datadump = json.dumps(response, indent=2, sort_keys=True)\n",
    "    #print(datadump)\n",
    "    \n",
    "    #if response:\n",
    "    #    print('Response was grabbed for ' + url + '!')\n",
    "\n",
    "    #timeSeries = 'Time Series (5min)'\n",
    "    timeSeries = 'Time Series (Daily)'\n",
    "    #metaStr = 'Meta Data'\n",
    "    #metaData = data[metaStr]\n",
    "    \n",
    "    #Create DataFrame to grab.\n",
    "    df = pd.DataFrame([data])\n",
    "    dataTimeSeries = df[timeSeries]\n",
    "    #Grab Values from Time Series.\n",
    "    for j, k in dataTimeSeries.items():\n",
    "        #Separate Time interval (l) into one list, and values (m) into dfValues.\n",
    "        for l, m in k.items():\n",
    "            timeIntervals.append(l)\n",
    "            dfValues.append(m)\n",
    "            #Loop through dfValues to turn extra values from dictionary.\n",
    "            #n value example: 1. open, 2. high...\n",
    "            #o value for n: 140.2300, 143.8400...\n",
    "            loopCount = 0\n",
    "            for n, o in m.items():\n",
    "                if (n == '1. open'):\n",
    "                    openingValue.append(o)\n",
    "                if (n == '2. high'):\n",
    "                    highValue.append(o)\n",
    "                if (n == '3. low'):\n",
    "                    lowValue.append(o)\n",
    "                if (n == '4. close'):\n",
    "                    closeValue.append(o)\n",
    "                if (n == '5. volume'):\n",
    "                    volumeValue.append(o)\n",
    "    \"\"\"\n",
    "    #Checking the lengths if it is equal.\n",
    "    if len(timeIntervals) == len(dfValues):\n",
    "        print(\"Time Interval and Values are the Same Length. Ok to continue program!\")\n",
    "    \"\"\"\n",
    "    #Create our data set\n",
    "    allData = pd.DataFrame()\n",
    "    allData['DateTime'] = timeIntervals\n",
    "    allData['DateTime'] = pd.to_datetime(allData['DateTime'], errors='coerce')\n",
    "    allData['Time'] = allData['DateTime'].dt.time\n",
    "    #allData['Time'] = pd.to_timedelta(allData['Time'], errors='coerce')\n",
    "    #print(allData['Time'])\n",
    "    allData['Open'] = openingValue\n",
    "    allData['Open'] = allData['Open'].astype(float)\n",
    "    allData['Low'] = lowValue\n",
    "    allData['Low'] = allData['Low'].astype(float)\n",
    "    allData['Close'] = closeValue\n",
    "    allData['Close'] = allData['Close'].astype(float)\n",
    "    allData['Volume'] = volumeValue\n",
    "    allData['Volume'] = allData['Volume'].astype(float)\n",
    "    #print(allData.dtypes)\n",
    "    allData.to_csv(url + \".csv\", encoding='utf-8', index=False)\n",
    "\n",
    "    \n",
    "end = time.time()\n",
    "print(\"Program Total RunTime: \", end - start)"
   ]
  },
  {
   "cell_type": "code",
   "execution_count": 2,
   "metadata": {},
   "outputs": [
    {
     "name": "stdout",
     "output_type": "stream",
     "text": [
      "Unique Rows based on DateTime: 5031\n",
      "Current Rows from Table: 125775\n",
      "5031\n",
      "Unique Rows based on DateTimeIndex: 5031\n",
      "Current Rows from Table_Index: 5031\n",
      "                Time    Open       Low   Close       Volume\n",
      "DateTime                                                   \n",
      "2020-04-21  00:00:00  173.50  166.1102  167.82   55826672.0\n",
      "2020-04-20  00:00:00  176.63  174.9900  175.06   36669595.0\n",
      "2020-04-17  00:00:00  179.50  175.8700  178.60   52765625.0\n",
      "2020-04-16  00:00:00  174.30  172.9000  177.04   50479610.0\n",
      "2020-04-15  00:00:00  171.20  169.2400  171.88   40940833.0\n",
      "...              ...     ...       ...     ...          ...\n",
      "2000-04-27  00:00:00   67.44   67.3700   69.81   38834900.0\n",
      "2000-04-26  00:00:00   70.00   67.3700   68.00   53545600.0\n",
      "2000-04-25  00:00:00   68.75   67.6200   69.37   79758700.0\n",
      "2000-04-24  00:00:00   67.25   65.0000   66.62  156822900.0\n",
      "2000-04-20  00:00:00   78.62   77.5000   78.94   26193700.0\n",
      "\n",
      "[5031 rows x 5 columns]\n"
     ]
    }
   ],
   "source": [
    "AMGEN = r'C:\\Users\\chappie\\Documents\\GitHub\\Predicting_Biotech_Stock_Performance\\Predicting-Biotech-Stock-Performance\\AMGN.csv'\n",
    "pdAMGEN = pd.read_csv(AMGEN)\n",
    "pdAMGIndex = pd.read_csv(AMGEN, index_col=0, parse_dates=True)\n",
    "\n",
    "uniqueDateTime = pdAMGEN.DateTime.unique()\n",
    "print(\"Unique Rows based on DateTime:\", len(uniqueDateTime))\n",
    "print(\"Current Rows from Table:\", len(pdAMGEN))\n",
    "\n",
    "pdAMGEN = pdAMGEN.iloc[:5031]\n",
    "print(len(pdAMGEN))\n",
    "pdAMGEN.head()\n",
    "\n",
    "pdAMGIndex = pdAMGIndex.iloc[:5031]\n",
    "uniqueDateTimeIndex = pdAMGEN.DateTime.unique()\n",
    "print(\"Unique Rows based on DateTimeIndex:\", len(uniqueDateTimeIndex))\n",
    "print(\"Current Rows from Table_Index:\", len(pdAMGIndex))\n",
    "print(pdAMGIndex)"
   ]
  },
  {
   "cell_type": "code",
   "execution_count": 3,
   "metadata": {},
   "outputs": [
    {
     "name": "stdout",
     "output_type": "stream",
     "text": [
      "                Time    Open       Low   Close       Volume  Open_to_Close\n",
      "DateTime                                                                  \n",
      "2000-04-20  00:00:00   78.62   77.5000   78.94   26193700.0          -0.32\n",
      "2000-04-24  00:00:00   67.25   65.0000   66.62  156822900.0           0.63\n",
      "2000-04-25  00:00:00   68.75   67.6200   69.37   79758700.0          -0.62\n",
      "2000-04-26  00:00:00   70.00   67.3700   68.00   53545600.0           2.00\n",
      "2000-04-27  00:00:00   67.44   67.3700   69.81   38834900.0          -2.37\n",
      "...              ...     ...       ...     ...          ...            ...\n",
      "2020-04-15  00:00:00  171.20  169.2400  171.88   40940833.0          -0.68\n",
      "2020-04-16  00:00:00  174.30  172.9000  177.04   50479610.0          -2.74\n",
      "2020-04-17  00:00:00  179.50  175.8700  178.60   52765625.0           0.90\n",
      "2020-04-20  00:00:00  176.63  174.9900  175.06   36669595.0           1.57\n",
      "2020-04-21  00:00:00  173.50  166.1102  167.82   55826672.0           5.68\n",
      "\n",
      "[5031 rows x 6 columns]\n"
     ]
    }
   ],
   "source": [
    "#Add Separate Columns for Day, Month, Year, Month Names, and Season to dataframe\n",
    "def dateTimeConversion(df):\n",
    "    #Arrays for Appending\n",
    "    yearArr = []\n",
    "    monthArr = []\n",
    "    monthNamesArr = []\n",
    "    dayArr = []\n",
    "    seasonArr = []\n",
    "    #Months & Seasons (Spring: March-May/03-05, Summer: June-August/06-08, Fall/Autumn: )\n",
    "    monthNames = ['','January', 'February', 'March', 'April', 'May', 'June', 'July', 'August', 'September', 'October', 'November', 'December']\n",
    "    #Fall/Autumn: September, October, November [09-11]\n",
    "    #Winter: December, January, February [12-02]\n",
    "    seasonNames = ['','Winter', 'Winter', 'Spring', 'Spring', 'Spring', 'Summer','Summer','Summer','Fall','Fall','Fall','Winter']\n",
    "    for x in df.DateTime:\n",
    "        datetimestrp = datetime.strptime(x, '%Y-%m-%d')\n",
    "        yearArr.append(datetimestrp.year)\n",
    "        monthArr.append(datetimestrp.month)\n",
    "        dayArr.append(datetimestrp.day)\n",
    "       # print(monthNames[int(datetimestrp.month)])\n",
    "        monthNamesArr.append(monthNames[int(datetimestrp.month)])\n",
    "        seasonArr.append(seasonNames[int(datetimestrp.month)])\n",
    "    df['Month'] = monthArr\n",
    "    df['Day'] = dayArr\n",
    "    df['Year'] = yearArr\n",
    "    df['MonthName'] = monthNamesArr\n",
    "    df['Season'] = seasonArr\n",
    "    \n",
    "    return df\n",
    "\n",
    "\n",
    "newpd = dateTimeConversion(pdAMGEN)\n",
    "newpd = newpd.sort_values(by=['DateTime'],ascending=True)\n",
    "newpd.index = range(1,len(newpd) + 1)\n",
    "newpd['Open_to_Close'] = newpd.Open - newpd.Close\n",
    "\n",
    "#newpdTwo = dateTimeConversion(pdAMGIndex)\n",
    "newpdTwo = pdAMGIndex.sort_index(ascending=True)\n",
    "#newpdTwo.index = range(1,len(newpdTwo) + 1)\n",
    "newpdTwo['Open_to_Close'] = newpdTwo.Open - newpdTwo.Close\n",
    "print(newpdTwo)"
   ]
  },
  {
   "cell_type": "code",
   "execution_count": 4,
   "metadata": {},
   "outputs": [
    {
     "ename": "SyntaxError",
     "evalue": "invalid syntax (<ipython-input-4-dc00bb4c7995>, line 6)",
     "output_type": "error",
     "traceback": [
      "\u001b[1;36m  File \u001b[1;32m\"<ipython-input-4-dc00bb4c7995>\"\u001b[1;36m, line \u001b[1;32m6\u001b[0m\n\u001b[1;33m    ax.set_ylabel('Month')\u001b[0m\n\u001b[1;37m     ^\u001b[0m\n\u001b[1;31mSyntaxError\u001b[0m\u001b[1;31m:\u001b[0m invalid syntax\n"
     ]
    }
   ],
   "source": [
    "sns.set(rc={'figure.figsize':(11, 4)})\n",
    "newpdTwo.Open.plot(linewidth=0.5)\n",
    "plt.show(\n",
    "\n",
    "ax = newpdTwo.loc['2019','Open'].plot()\n",
    "ax.set_ylabel('Month')\n",
    "plt.show()\n",
    "\n",
    "#Why is matplotlib slower than sns?"
   ]
  },
  {
   "cell_type": "code",
   "execution_count": 5,
   "metadata": {},
   "outputs": [
    {
     "data": {
      "image/png": "[encoded data removed]",
      "text/plain": [
       "<Figure size 432x288 with 1 Axes>"
      ]
     },
     "metadata": {
      "needs_background": "light"
     },
     "output_type": "display_data"
    },
    {
     "data": {
      "text/plain": [
       "<Figure size 1440x1440 with 0 Axes>"
      ]
     },
     "metadata": {},
     "output_type": "display_data"
    },
    {
     "data": {
      "image/png": "[encoded data removed]",
      "text/plain": [
       "<Figure size 432x288 with 1 Axes>"
      ]
     },
     "metadata": {
      "needs_background": "light"
     },
     "output_type": "display_data"
    },
    {
     "data": {
      "text/plain": [
       "<Figure size 1440x1440 with 0 Axes>"
      ]
     },
     "metadata": {},
     "output_type": "display_data"
    },
    {
     "name": "stdout",
     "output_type": "stream",
     "text": [
      "Running Complete\n"
     ]
    },
    {
     "data": {
      "image/png": "[encoded data removed]",
      "text/plain": [
       "<Figure size 432x288 with 1 Axes>"
      ]
     },
     "metadata": {
      "needs_background": "light"
     },
     "output_type": "display_data"
    }
   ],
   "source": [
    "#Design a function for any data table to graph all yearly data on one graph with the x-axis as Month and y-axis as price.\n",
    "def graphMultipleYears(df,column):\n",
    "    \n",
    "    #Grabbing the unique values (history) for years, months, and day\n",
    "    df['year'] = [d.year for d in df.index]\n",
    "    years = pd.unique(df.year)\n",
    "    #years = df.year.unique()\n",
    "    df['month'] = [d.month for d in df.index]\n",
    "    months = pd.unique(df.month)\n",
    "    df['day'] = [d.day for d in df.index]\n",
    "    \n",
    "    #Mapping the Month and Day together for future use when setting the index\n",
    "    #df['month_day'] = df['month'].map(str) +'-'+ df['day'].map(str)\n",
    "    #df['month_day'] = df['month'] +'-'+ df['day']\n",
    "    #Establish arrays\n",
    "    monthNamesArr = []\n",
    "    seasonArr = []\n",
    "    \n",
    "    for m in df.month:\n",
    "        #Months & Seasons (Spring: March-May/03-05, Summer: June-August/06-08, Fall/Autumn: )\n",
    "        monthNames = ['','January', 'February', 'March', 'April', 'May', 'June', 'July', 'August', 'September', 'October', 'November', 'December']\n",
    "        #Fall/Autumn: September, October, November [09-11]\n",
    "        #Winter: December, January, February [12-02]\n",
    "        seasonNames = ['','Winter', 'Winter', 'Spring', 'Spring', 'Spring', 'Summer','Summer','Summer','Fall','Fall','Fall','Winter']\n",
    "        monthNamesArr.append(monthNames[int(m)])\n",
    "        seasonArr.append(seasonNames[int(m)])\n",
    "        \n",
    "    #Assign New Columns\n",
    "    df['MonthName'] = monthNamesArr\n",
    "    df['Season'] = seasonArr\n",
    "    #Loop through each year\n",
    "    for year in years:\n",
    "        #Gather the filtered dataframe by year\n",
    "        eachYear = df.loc[str(year)]\n",
    "        \n",
    "        #Set Index with month and day combined by dash (\"-\")\n",
    "        #month = eachYear.set_index('month_day')\n",
    "        \n",
    "        \n",
    "        #print(eachYear)\n",
    "        \n",
    "        #Matplotlib\n",
    "        ax = sns.lineplot(x='month',y='Open',data=eachYear,label=year)\n",
    "    \n",
    "    ax.set(xlabel='Months',ylabel='Open Price')\n",
    "    plt.figure(figsize=(20,20))\n",
    "    plt.show()\n",
    "    \n",
    "    \n",
    "    for year in years:\n",
    "        #Gather the filtered dataframe by year\n",
    "        eachYear = df.loc[str(year)]\n",
    "\n",
    "        #Set Index with month and day combined by dash (\"-\")\n",
    "        #month = eachYear.set_index('month_day')\n",
    "\n",
    "\n",
    "        #print(eachYear)\n",
    "\n",
    "        #Matplotlib\n",
    "        sns.boxplot(x='month',y='Open',data=eachYear)\n",
    "        \n",
    "    plt.figure(figsize=(20,20))\n",
    "    plt.show()\n",
    "    \n",
    "    sns.boxplot(x='year',y='Open',data=df)\n",
    "#plt.yticks([0, 2, 4, 6, 8, 10])\n",
    "graphMultipleYears(newpdTwo, 'Open')\n",
    "print(\"Running Complete\")\n",
    "\n",
    "\n",
    "#grab the month if = (January for hte 1st month)"
   ]
  },
  {
   "cell_type": "code",
   "execution_count": null,
   "metadata": {},
   "outputs": [],
   "source": []
  },
  {
   "cell_type": "code",
   "execution_count": 6,
   "metadata": {},
   "outputs": [
    {
     "name": "stdout",
     "output_type": "stream",
     "text": [
      "1    78.62\n",
      "2    67.25\n",
      "3    68.75\n",
      "4    70.00\n",
      "5    67.44\n",
      "Name: Open, dtype: float64\n"
     ]
    },
    {
     "ename": "ValueError",
     "evalue": "could not convert string to float: 'Spring'",
     "output_type": "error",
     "traceback": [
      "\u001b[1;31m---------------------------------------------------------------------------\u001b[0m",
      "\u001b[1;31mValueError\u001b[0m                                Traceback (most recent call last)",
      "\u001b[1;32m<ipython-input-6-c0ed8b10aa71>\u001b[0m in \u001b[0;36m<module>\u001b[1;34m\u001b[0m\n\u001b[0;32m     10\u001b[0m \u001b[1;33m\u001b[0m\u001b[0m\n\u001b[0;32m     11\u001b[0m \u001b[0mnewpd\u001b[0m \u001b[1;33m=\u001b[0m \u001b[0mnewpd\u001b[0m\u001b[1;33m.\u001b[0m\u001b[0mdrop\u001b[0m\u001b[1;33m(\u001b[0m\u001b[1;33m[\u001b[0m\u001b[1;34m'Time'\u001b[0m\u001b[1;33m]\u001b[0m\u001b[1;33m,\u001b[0m \u001b[0maxis\u001b[0m\u001b[1;33m=\u001b[0m\u001b[1;36m1\u001b[0m\u001b[1;33m)\u001b[0m\u001b[1;33m\u001b[0m\u001b[1;33m\u001b[0m\u001b[0m\n\u001b[1;32m---> 12\u001b[1;33m \u001b[0mdecomposition\u001b[0m \u001b[1;33m=\u001b[0m \u001b[0msm\u001b[0m\u001b[1;33m.\u001b[0m\u001b[0mtsa\u001b[0m\u001b[1;33m.\u001b[0m\u001b[0mseasonal_decompose\u001b[0m\u001b[1;33m(\u001b[0m\u001b[0mnewpd\u001b[0m\u001b[1;33m,\u001b[0m \u001b[0mmodel\u001b[0m\u001b[1;33m=\u001b[0m\u001b[1;34m'additive'\u001b[0m\u001b[1;33m)\u001b[0m\u001b[1;33m\u001b[0m\u001b[1;33m\u001b[0m\u001b[0m\n\u001b[0m\u001b[0;32m     13\u001b[0m \u001b[1;33m\u001b[0m\u001b[0m\n\u001b[0;32m     14\u001b[0m \u001b[0mprint\u001b[0m\u001b[1;33m(\u001b[0m\u001b[0mdecomposition\u001b[0m\u001b[1;33m)\u001b[0m\u001b[1;33m\u001b[0m\u001b[1;33m\u001b[0m\u001b[0m\n",
      "\u001b[1;32m~\\Anaconda3\\lib\\site-packages\\pandas\\util\\_decorators.py\u001b[0m in \u001b[0;36mwrapper\u001b[1;34m(*args, **kwargs)\u001b[0m\n\u001b[0;32m    212\u001b[0m                 \u001b[1;32melse\u001b[0m\u001b[1;33m:\u001b[0m\u001b[1;33m\u001b[0m\u001b[1;33m\u001b[0m\u001b[0m\n\u001b[0;32m    213\u001b[0m                     \u001b[0mkwargs\u001b[0m\u001b[1;33m[\u001b[0m\u001b[0mnew_arg_name\u001b[0m\u001b[1;33m]\u001b[0m \u001b[1;33m=\u001b[0m \u001b[0mnew_arg_value\u001b[0m\u001b[1;33m\u001b[0m\u001b[1;33m\u001b[0m\u001b[0m\n\u001b[1;32m--> 214\u001b[1;33m             \u001b[1;32mreturn\u001b[0m \u001b[0mfunc\u001b[0m\u001b[1;33m(\u001b[0m\u001b[1;33m*\u001b[0m\u001b[0margs\u001b[0m\u001b[1;33m,\u001b[0m \u001b[1;33m**\u001b[0m\u001b[0mkwargs\u001b[0m\u001b[1;33m)\u001b[0m\u001b[1;33m\u001b[0m\u001b[1;33m\u001b[0m\u001b[0m\n\u001b[0m\u001b[0;32m    215\u001b[0m \u001b[1;33m\u001b[0m\u001b[0m\n\u001b[0;32m    216\u001b[0m         \u001b[1;32mreturn\u001b[0m \u001b[0mcast\u001b[0m\u001b[1;33m(\u001b[0m\u001b[0mF\u001b[0m\u001b[1;33m,\u001b[0m \u001b[0mwrapper\u001b[0m\u001b[1;33m)\u001b[0m\u001b[1;33m\u001b[0m\u001b[1;33m\u001b[0m\u001b[0m\n",
      "\u001b[1;32m~\\Anaconda3\\lib\\site-packages\\statsmodels\\tsa\\seasonal.py\u001b[0m in \u001b[0;36mseasonal_decompose\u001b[1;34m(x, model, filt, period, two_sided, extrapolate_trend)\u001b[0m\n\u001b[0;32m    125\u001b[0m         \u001b[0mpfreq\u001b[0m \u001b[1;33m=\u001b[0m \u001b[0mgetattr\u001b[0m\u001b[1;33m(\u001b[0m\u001b[0mgetattr\u001b[0m\u001b[1;33m(\u001b[0m\u001b[0mx\u001b[0m\u001b[1;33m,\u001b[0m \u001b[1;34m'index'\u001b[0m\u001b[1;33m,\u001b[0m \u001b[1;32mNone\u001b[0m\u001b[1;33m)\u001b[0m\u001b[1;33m,\u001b[0m \u001b[1;34m'inferred_freq'\u001b[0m\u001b[1;33m,\u001b[0m \u001b[1;32mNone\u001b[0m\u001b[1;33m)\u001b[0m\u001b[1;33m\u001b[0m\u001b[1;33m\u001b[0m\u001b[0m\n\u001b[0;32m    126\u001b[0m \u001b[1;33m\u001b[0m\u001b[0m\n\u001b[1;32m--> 127\u001b[1;33m     \u001b[0mx\u001b[0m \u001b[1;33m=\u001b[0m \u001b[0marray_like\u001b[0m\u001b[1;33m(\u001b[0m\u001b[0mx\u001b[0m\u001b[1;33m,\u001b[0m \u001b[1;34m'x'\u001b[0m\u001b[1;33m,\u001b[0m \u001b[0mmaxdim\u001b[0m\u001b[1;33m=\u001b[0m\u001b[1;36m2\u001b[0m\u001b[1;33m)\u001b[0m\u001b[1;33m\u001b[0m\u001b[1;33m\u001b[0m\u001b[0m\n\u001b[0m\u001b[0;32m    128\u001b[0m     \u001b[0mnobs\u001b[0m \u001b[1;33m=\u001b[0m \u001b[0mlen\u001b[0m\u001b[1;33m(\u001b[0m\u001b[0mx\u001b[0m\u001b[1;33m)\u001b[0m\u001b[1;33m\u001b[0m\u001b[1;33m\u001b[0m\u001b[0m\n\u001b[0;32m    129\u001b[0m \u001b[1;33m\u001b[0m\u001b[0m\n",
      "\u001b[1;32m~\\Anaconda3\\lib\\site-packages\\statsmodels\\tools\\validation\\validation.py\u001b[0m in \u001b[0;36marray_like\u001b[1;34m(obj, name, dtype, ndim, maxdim, shape, order, contiguous, optional)\u001b[0m\n\u001b[0;32m    122\u001b[0m     \u001b[1;32mif\u001b[0m \u001b[0moptional\u001b[0m \u001b[1;32mand\u001b[0m \u001b[0mobj\u001b[0m \u001b[1;32mis\u001b[0m \u001b[1;32mNone\u001b[0m\u001b[1;33m:\u001b[0m\u001b[1;33m\u001b[0m\u001b[1;33m\u001b[0m\u001b[0m\n\u001b[0;32m    123\u001b[0m         \u001b[1;32mreturn\u001b[0m \u001b[1;32mNone\u001b[0m\u001b[1;33m\u001b[0m\u001b[1;33m\u001b[0m\u001b[0m\n\u001b[1;32m--> 124\u001b[1;33m     \u001b[0marr\u001b[0m \u001b[1;33m=\u001b[0m \u001b[0mnp\u001b[0m\u001b[1;33m.\u001b[0m\u001b[0masarray\u001b[0m\u001b[1;33m(\u001b[0m\u001b[0mobj\u001b[0m\u001b[1;33m,\u001b[0m \u001b[0mdtype\u001b[0m\u001b[1;33m=\u001b[0m\u001b[0mdtype\u001b[0m\u001b[1;33m,\u001b[0m \u001b[0morder\u001b[0m\u001b[1;33m=\u001b[0m\u001b[0morder\u001b[0m\u001b[1;33m)\u001b[0m\u001b[1;33m\u001b[0m\u001b[1;33m\u001b[0m\u001b[0m\n\u001b[0m\u001b[0;32m    125\u001b[0m     \u001b[1;32mif\u001b[0m \u001b[0mmaxdim\u001b[0m \u001b[1;32mis\u001b[0m \u001b[1;32mnot\u001b[0m \u001b[1;32mNone\u001b[0m\u001b[1;33m:\u001b[0m\u001b[1;33m\u001b[0m\u001b[1;33m\u001b[0m\u001b[0m\n\u001b[0;32m    126\u001b[0m         \u001b[1;32mif\u001b[0m \u001b[0marr\u001b[0m\u001b[1;33m.\u001b[0m\u001b[0mndim\u001b[0m \u001b[1;33m>\u001b[0m \u001b[0mmaxdim\u001b[0m\u001b[1;33m:\u001b[0m\u001b[1;33m\u001b[0m\u001b[1;33m\u001b[0m\u001b[0m\n",
      "\u001b[1;32m~\\Anaconda3\\lib\\site-packages\\numpy\\core\\_asarray.py\u001b[0m in \u001b[0;36masarray\u001b[1;34m(a, dtype, order)\u001b[0m\n\u001b[0;32m     83\u001b[0m \u001b[1;33m\u001b[0m\u001b[0m\n\u001b[0;32m     84\u001b[0m     \"\"\"\n\u001b[1;32m---> 85\u001b[1;33m     \u001b[1;32mreturn\u001b[0m \u001b[0marray\u001b[0m\u001b[1;33m(\u001b[0m\u001b[0ma\u001b[0m\u001b[1;33m,\u001b[0m \u001b[0mdtype\u001b[0m\u001b[1;33m,\u001b[0m \u001b[0mcopy\u001b[0m\u001b[1;33m=\u001b[0m\u001b[1;32mFalse\u001b[0m\u001b[1;33m,\u001b[0m \u001b[0morder\u001b[0m\u001b[1;33m=\u001b[0m\u001b[0morder\u001b[0m\u001b[1;33m)\u001b[0m\u001b[1;33m\u001b[0m\u001b[1;33m\u001b[0m\u001b[0m\n\u001b[0m\u001b[0;32m     86\u001b[0m \u001b[1;33m\u001b[0m\u001b[0m\n\u001b[0;32m     87\u001b[0m \u001b[1;33m\u001b[0m\u001b[0m\n",
      "\u001b[1;31mValueError\u001b[0m: could not convert string to float: 'Spring'"
     ]
    },
    {
     "data": {
      "image/png": "[encoded data removed]",
      "text/plain": [
       "<Figure size 432x288 with 1 Axes>"
      ]
     },
     "metadata": {
      "needs_background": "light"
     },
     "output_type": "display_data"
    }
   ],
   "source": [
    "import matplotlib.dates as mdates\n",
    "import statsmodels.api as sm\n",
    "\n",
    "#newpd['DateTime'] = pd.to_datetime(newpd['DateTime'])\n",
    "\n",
    "#newpd = newpd.set_index('DateTime')\n",
    "print(newpd['Open'].head())\n",
    "newpd['Open'].plot(grid=True)\n",
    "\n",
    "\n",
    "newpd = newpd.drop(['Time'], axis=1)\n",
    "decomposition = sm.tsa.seasonal_decompose(newpd, model='additive')\n",
    "\n",
    "print(decomposition)\n",
    "fig = decomposition.plot()\n",
    "plt.rcParams['figure.figsize'] = [9.0, 5.0]\n",
    "\n",
    "fig, ax = plt.subplots()\n",
    "ax.grid(True)\n",
    "\n",
    "year = mdates.YearLocator(month=1)\n",
    "month = mdates.MonthLocator(interval=3)\n",
    "\n",
    "year_format = mdates.DateFormatter('%Y')\n",
    "month_format = mdates.DateFormatter('%m')\n",
    "\n",
    "ax.xaxis.set_minor_locator(month)\n",
    "ax.xaxis.grid(True, which = 'minor')\n",
    "ax.xaxis.set_major_locator(year)\n",
    "ax.xaxis.set_major_formatter(year_format)\n",
    "\n",
    "plt.plot(newpdTwo.index, newpdTwo['Open'], c='blue')\n",
    "#plt.plot(decomposition.trend.index, decomposition.trend, c='red')"
   ]
  },
  {
   "cell_type": "code",
   "execution_count": 3,
   "metadata": {},
   "outputs": [],
   "source": [
    "\"\"\"\n",
    "linearModel1 = sm.OLS(YVAR, XVAR).fit()\n",
    "print(linearModel1.summary())\n",
    "XVar2=sm.add_constant(XVar)\n",
    "linearModel2 = sm.OLS(YVAR,XVar2).fit()\n",
    "print(linearModel2.summary())\n",
    "\n",
    "\"\"\""
   ]
  },
  {
   "cell_type": "code",
   "execution_count": 4,
   "metadata": {},
   "outputs": [
    {
     "name": "stdout",
     "output_type": "stream",
     "text": [
      "Collecting sklearn\n",
      "  Downloading sklearn-0.0.tar.gz (1.1 kB)\n",
      "Collecting scikit-learn\n",
      "  Downloading scikit_learn-0.22.2.post1-cp37-cp37m-win_amd64.whl (6.5 MB)\n",
      "Collecting joblib>=0.11\n",
      "  Downloading joblib-0.14.1-py2.py3-none-any.whl (294 kB)\n",
      "Requirement already satisfied: numpy>=1.11.0 in c:\\users\\chappie\\anaconda3\\lib\\site-packages (from scikit-learn->sklearn) (1.18.3)\n",
      "Requirement already satisfied: scipy>=0.17.0 in c:\\users\\chappie\\anaconda3\\lib\\site-packages (from scikit-learn->sklearn) (1.4.1)\n",
      "Building wheels for collected packages: sklearn\n",
      "  Building wheel for sklearn (setup.py): started\n",
      "  Building wheel for sklearn (setup.py): finished with status 'done'\n",
      "  Created wheel for sklearn: filename=sklearn-0.0-py2.py3-none-any.whl size=1320 sha256=cb0bee73d4b3fc242560d1efb27824abc737dae0e818528888f8de9ba9a5e655\n",
      "  Stored in directory: c:\\users\\chappie\\appdata\\local\\pip\\cache\\wheels\\46\\ef\\c3\\157e41f5ee1372d1be90b09f74f82b10e391eaacca8f22d33e\n",
      "Successfully built sklearn\n",
      "Installing collected packages: joblib, scikit-learn, sklearn\n",
      "Successfully installed joblib-0.14.1 scikit-learn-0.22.2.post1 sklearn-0.0\n"
     ]
    }
   ],
   "source": [
    "import sys\n",
    "!{sys.executable} -m pip install sklearn"
   ]
  },
  {
   "cell_type": "code",
   "execution_count": null,
   "metadata": {},
   "outputs": [],
   "source": [
    "#Plot Data for Fun!\n",
    "plt.scatter(allData.DateTime,allData.Open)\n",
    "plt.show()"
   ]
  },
  {
   "cell_type": "code",
   "execution_count": 11,
   "metadata": {},
   "outputs": [
    {
     "name": "stdout",
     "output_type": "stream",
     "text": [
      "0     3242733.0\n",
      "1     2009502.0\n",
      "2     1059334.0\n",
      "3     1200330.0\n",
      "4      934889.0\n",
      "        ...    \n",
      "95     500882.0\n",
      "96     522875.0\n",
      "97     455427.0\n",
      "98     537203.0\n",
      "99     482648.0\n",
      "Name: Volume, Length: 100, dtype: float64\n"
     ]
    },
    {
     "data": {
      "text/plain": [
       "<matplotlib.axes._subplots.AxesSubplot at 0x2706ff93cc8>"
      ]
     },
     "execution_count": 11,
     "metadata": {},
     "output_type": "execute_result"
    },
    {
     "data": {
      "image/png": "[encoded data removed]",
      "text/plain": [
       "<Figure size 432x288 with 1 Axes>"
      ]
     },
     "metadata": {
      "needs_background": "light"
     },
     "output_type": "display_data"
    }
   ],
   "source": [
    "print(allData['Volume'])\n",
    "allData['Volume'].plot.bar()"
   ]
  },
  {
   "cell_type": "code",
   "execution_count": 17,
   "metadata": {},
   "outputs": [],
   "source": [
    "#print(data)\n",
    "df = pd.DataFrame([data])\n",
    "timeSeries = 'Time Series (5min)'\n",
    "dfTimeSeries = df[timeSeries]\n",
    "#print(type(dfTimeSeries))"
   ]
  },
  {
   "cell_type": "code",
   "execution_count": 1,
   "metadata": {},
   "outputs": [],
   "source": []
  },
  {
   "cell_type": "code",
   "execution_count": null,
   "metadata": {},
   "outputs": [],
   "source": []
  },
  {
   "cell_type": "code",
   "execution_count": null,
   "metadata": {},
   "outputs": [],
   "source": []
  },
  {
   "cell_type": "code",
   "execution_count": null,
   "metadata": {},
   "outputs": [],
   "source": []
  }
 ],
 "metadata": {
  "kernelspec": {
   "display_name": "Python 3",
   "language": "python",
   "name": "python3"
  },
  "language_info": {
   "codemirror_mode": {
    "name": "ipython",
    "version": 3
   },
   "file_extension": ".py",
   "mimetype": "text/x-python",
   "name": "python",
   "nbconvert_exporter": "python",
   "pygments_lexer": "ipython3",
   "version": "3.7.4"
  }
 },
 "nbformat": 4,
 "nbformat_minor": 4
}
